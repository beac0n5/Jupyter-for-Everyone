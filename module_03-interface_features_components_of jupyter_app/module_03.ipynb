{
 "cells": [
  {
   "cell_type": "markdown",
   "id": "519deb3a",
   "metadata": {
    "hide_input": false
   },
   "source": [
    "# import packages\n"
   ]
  },
  {
   "cell_type": "code",
   "execution_count": 2,
   "id": "72a002df-1ee5-4a75-a3c2-7b37dff3ebd0",
   "metadata": {
    "collapsed": true,
    "hide_input": false
   },
   "outputs": [],
   "source": [
    "import pandas as pd\n",
    "from sklearn.datasets import make_regression\n",
    "from utilities import print_basic_info"
   ]
  },
  {
   "cell_type": "markdown",
   "id": "b0506d19",
   "metadata": {},
   "source": [
    "# example function"
   ]
  },
  {
   "cell_type": "code",
   "execution_count": 3,
   "id": "fff04309",
   "metadata": {
    "code_folding": [],
    "collapsed": true
   },
   "outputs": [],
   "source": [
    "def some_func(a, b, c):\n",
    "    x = a+b+c\n",
    "    return x\n"
   ]
  },
  {
   "cell_type": "markdown",
   "id": "727b5af3",
   "metadata": {},
   "source": [
    "# generate data"
   ]
  },
  {
   "cell_type": "code",
   "execution_count": 4,
   "id": "713e28fb",
   "metadata": {
    "collapsed": true
   },
   "outputs": [],
   "source": [
    "x, y = make_regression(100, 10)"
   ]
  },
  {
   "cell_type": "markdown",
   "id": "ab1f7b35",
   "metadata": {},
   "source": [
    "# explore data"
   ]
  },
  {
   "cell_type": "markdown",
   "id": "57bde8f0",
   "metadata": {},
   "source": [
    "## shape & type"
   ]
  },
  {
   "cell_type": "code",
   "execution_count": 5,
   "id": "7b9efb7f",
   "metadata": {},
   "outputs": [
    {
     "name": "stdout",
     "output_type": "stream",
     "text": [
      "type of the data is: <class 'numpy.ndarray'>\n",
      "number of rows in the data is: 100\n",
      "number of all columns in the data is: 10\n"
     ]
    }
   ],
   "source": [
    "print_basic_info(x)"
   ]
  },
  {
   "cell_type": "code",
   "execution_count": 6,
   "id": "6510400c",
   "metadata": {},
   "outputs": [
    {
     "name": "stdout",
     "output_type": "stream",
     "text": [
      "type of the data is: <class 'numpy.ndarray'>\n",
      "number of rows in the data is: 100\n",
      "This data has just 1 column\n"
     ]
    }
   ],
   "source": [
    "print_basic_info(y)"
   ]
  },
  {
   "cell_type": "code",
   "execution_count": 7,
   "id": "88e07403",
   "metadata": {
    "collapsed": true
   },
   "outputs": [],
   "source": [
    "df_x = pd.DataFrame(x)\n",
    "y = pd.Series(y)"
   ]
  },
  {
   "cell_type": "markdown",
   "id": "4db99499",
   "metadata": {},
   "source": [
    "## summary"
   ]
  },
  {
   "cell_type": "code",
   "execution_count": 8,
   "id": "de85fb58",
   "metadata": {},
   "outputs": [
    {
     "name": "stdout",
     "output_type": "stream",
     "text": [
      "<class 'pandas.core.frame.DataFrame'>\n",
      "RangeIndex: 100 entries, 0 to 99\n",
      "Data columns (total 10 columns):\n",
      " #   Column  Non-Null Count  Dtype  \n",
      "---  ------  --------------  -----  \n",
      " 0   0       100 non-null    float64\n",
      " 1   1       100 non-null    float64\n",
      " 2   2       100 non-null    float64\n",
      " 3   3       100 non-null    float64\n",
      " 4   4       100 non-null    float64\n",
      " 5   5       100 non-null    float64\n",
      " 6   6       100 non-null    float64\n",
      " 7   7       100 non-null    float64\n",
      " 8   8       100 non-null    float64\n",
      " 9   9       100 non-null    float64\n",
      "dtypes: float64(10)\n",
      "memory usage: 7.9 KB\n"
     ]
    }
   ],
   "source": [
    "df_x.info()"
   ]
  },
  {
   "cell_type": "code",
   "execution_count": 9,
   "id": "504fe167",
   "metadata": {},
   "outputs": [
    {
     "data": {
      "text/html": [
       "<div>\n",
       "<style scoped>\n",
       "    .dataframe tbody tr th:only-of-type {\n",
       "        vertical-align: middle;\n",
       "    }\n",
       "\n",
       "    .dataframe tbody tr th {\n",
       "        vertical-align: top;\n",
       "    }\n",
       "\n",
       "    .dataframe thead th {\n",
       "        text-align: right;\n",
       "    }\n",
       "</style>\n",
       "<table border=\"1\" class=\"dataframe\">\n",
       "  <thead>\n",
       "    <tr style=\"text-align: right;\">\n",
       "      <th></th>\n",
       "      <th>0</th>\n",
       "      <th>1</th>\n",
       "      <th>2</th>\n",
       "      <th>3</th>\n",
       "      <th>4</th>\n",
       "      <th>5</th>\n",
       "      <th>6</th>\n",
       "      <th>7</th>\n",
       "      <th>8</th>\n",
       "      <th>9</th>\n",
       "    </tr>\n",
       "  </thead>\n",
       "  <tbody>\n",
       "    <tr>\n",
       "      <th>0</th>\n",
       "      <td>0.103454</td>\n",
       "      <td>0.810791</td>\n",
       "      <td>-0.763756</td>\n",
       "      <td>1.949678</td>\n",
       "      <td>0.305435</td>\n",
       "      <td>0.476227</td>\n",
       "      <td>0.438070</td>\n",
       "      <td>0.590106</td>\n",
       "      <td>1.072393</td>\n",
       "      <td>-1.305299</td>\n",
       "    </tr>\n",
       "    <tr>\n",
       "      <th>1</th>\n",
       "      <td>0.930231</td>\n",
       "      <td>0.479438</td>\n",
       "      <td>-2.294639</td>\n",
       "      <td>0.643437</td>\n",
       "      <td>-1.374464</td>\n",
       "      <td>-0.614348</td>\n",
       "      <td>-0.742619</td>\n",
       "      <td>0.216259</td>\n",
       "      <td>0.162328</td>\n",
       "      <td>-0.534688</td>\n",
       "    </tr>\n",
       "    <tr>\n",
       "      <th>2</th>\n",
       "      <td>-1.024838</td>\n",
       "      <td>-0.902077</td>\n",
       "      <td>0.342070</td>\n",
       "      <td>0.834156</td>\n",
       "      <td>-2.122898</td>\n",
       "      <td>0.276472</td>\n",
       "      <td>0.302674</td>\n",
       "      <td>1.012801</td>\n",
       "      <td>1.076160</td>\n",
       "      <td>0.487767</td>\n",
       "    </tr>\n",
       "    <tr>\n",
       "      <th>3</th>\n",
       "      <td>1.303486</td>\n",
       "      <td>-0.449740</td>\n",
       "      <td>-0.512253</td>\n",
       "      <td>-1.415259</td>\n",
       "      <td>-0.253257</td>\n",
       "      <td>-0.392252</td>\n",
       "      <td>0.841974</td>\n",
       "      <td>1.137196</td>\n",
       "      <td>-0.187510</td>\n",
       "      <td>-0.745724</td>\n",
       "    </tr>\n",
       "    <tr>\n",
       "      <th>4</th>\n",
       "      <td>0.013261</td>\n",
       "      <td>1.531845</td>\n",
       "      <td>-0.631843</td>\n",
       "      <td>-0.764065</td>\n",
       "      <td>-0.472935</td>\n",
       "      <td>-2.120296</td>\n",
       "      <td>-0.297949</td>\n",
       "      <td>2.095680</td>\n",
       "      <td>-0.156978</td>\n",
       "      <td>-0.451327</td>\n",
       "    </tr>\n",
       "  </tbody>\n",
       "</table>\n",
       "</div>"
      ],
      "text/plain": [
       "          0         1         2         3         4         5         6  \\\n",
       "0  0.103454  0.810791 -0.763756  1.949678  0.305435  0.476227  0.438070   \n",
       "1  0.930231  0.479438 -2.294639  0.643437 -1.374464 -0.614348 -0.742619   \n",
       "2 -1.024838 -0.902077  0.342070  0.834156 -2.122898  0.276472  0.302674   \n",
       "3  1.303486 -0.449740 -0.512253 -1.415259 -0.253257 -0.392252  0.841974   \n",
       "4  0.013261  1.531845 -0.631843 -0.764065 -0.472935 -2.120296 -0.297949   \n",
       "\n",
       "          7         8         9  \n",
       "0  0.590106  1.072393 -1.305299  \n",
       "1  0.216259  0.162328 -0.534688  \n",
       "2  1.012801  1.076160  0.487767  \n",
       "3  1.137196 -0.187510 -0.745724  \n",
       "4  2.095680 -0.156978 -0.451327  "
      ]
     },
     "execution_count": 9,
     "metadata": {},
     "output_type": "execute_result"
    }
   ],
   "source": [
    "df_x.head()"
   ]
  },
  {
   "cell_type": "markdown",
   "id": "93fea110",
   "metadata": {},
   "source": [
    "## plot of target variable"
   ]
  },
  {
   "cell_type": "code",
   "execution_count": 10,
   "id": "2cabead9",
   "metadata": {},
   "outputs": [
    {
     "data": {
      "text/plain": [
       "<Axes: ylabel='Frequency'>"
      ]
     },
     "execution_count": 10,
     "metadata": {},
     "output_type": "execute_result"
    },
    {
     "data": {
      "image/png": "[encoded data removed]",
      "text/plain": [
       "<Figure size 640x480 with 1 Axes>"
      ]
     },
     "metadata": {},
     "output_type": "display_data"
    }
   ],
   "source": [
    "y.plot(kind = 'hist')"
   ]
  },
  {
   "cell_type": "code",
   "execution_count": null,
   "id": "db5de195",
   "metadata": {
    "collapsed": true
   },
   "outputs": [],
   "source": []
  },
  {
   "cell_type": "code",
   "execution_count": null,
   "id": "b1b4e77e",
   "metadata": {
    "collapsed": true
   },
   "outputs": [],
   "source": []
  }
 ],
 "metadata": {
  "kernelspec": {
   "display_name": "Python 3 (ipykernel)",
   "language": "python",
   "name": "python3"
  },
  "language_info": {
   "codemirror_mode": {
    "name": "ipython",
    "version": 3
   },
   "file_extension": ".py",
   "mimetype": "text/x-python",
   "name": "python",
   "nbconvert_exporter": "python",
   "pygments_lexer": "ipython3",
   "version": "3.10.9"
  },
  "toc": {
   "base_numbering": 1,
   "nav_menu": {},
   "number_sections": true,
   "sideBar": true,
   "skip_h1_title": false,
   "title_cell": "Table of Contents",
   "title_sidebar": "Contents",
   "toc_cell": false,
   "toc_position": {},
   "toc_section_display": true,
   "toc_window_display": true
  },
  "varInspector": {
   "cols": {
    "lenName": 16,
    "lenType": 16,
    "lenVar": 40
   },
   "kernels_config": {
    "python": {
     "delete_cmd_postfix": "",
     "delete_cmd_prefix": "del ",
     "library": "var_list.py",
     "varRefreshCmd": "print(var_dic_list())"
    },
    "r": {
     "delete_cmd_postfix": ") ",
     "delete_cmd_prefix": "rm(",
     "library": "var_list.r",
     "varRefreshCmd": "cat(var_dic_list()) "
    }
   },
   "position": {
    "height": "144.683px",
    "left": "1372px",
    "right": "20px",
    "top": "101px",
    "width": "350px"
   },
   "types_to_exclude": [
    "module",
    "function",
    "builtin_function_or_method",
    "instance",
    "_Feature"
   ],
   "window_display": false
  }
 },
 "nbformat": 4,
 "nbformat_minor": 5
}
