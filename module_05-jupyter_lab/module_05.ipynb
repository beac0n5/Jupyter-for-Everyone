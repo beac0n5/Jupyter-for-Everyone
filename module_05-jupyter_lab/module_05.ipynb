{
 "cells": [
  {
   "cell_type": "markdown",
   "id": "83c1a78d-7f21-4245-bc11-45e878777d66",
   "metadata": {
    "canvas": {
     "comments": [],
     "componentType": "CodeCell",
     "copiedOriginId": null,
     "diskcache": false,
     "headerColor": "transparent",
     "id": "44766308-6d68-49cd-a1a5-7b8e911df071",
     "isComponent": false,
     "name": "",
     "parents": []
    }
   },
   "source": [
    "# packages"
   ]
  },
  {
   "cell_type": "code",
   "execution_count": null,
   "id": "df26e998-db10-4d4e-8d54-1d19ce004b2e",
   "metadata": {
    "canvas": {
     "comments": [],
     "componentType": "CodeCell",
     "copiedOriginId": null,
     "diskcache": false,
     "headerColor": "transparent",
     "id": "01fd54c6-7729-415e-a2c6-5a399f48465c",
     "isComponent": true,
     "name": "packages",
     "parents": []
    },
    "tags": []
   },
   "outputs": [],
   "source": [
    "import logging\n",
    "import pdb\n",
    "from  sklearn.linear_model import LogisticRegression\n",
    "from sklearn.ensemble import RandomForestClassifier\n",
    "import pandas as pd\n",
    "from sklearn.model_selection import train_test_split\n",
    "from sklearn.metrics import confusion_matrix, ConfusionMatrixDisplay\n",
    "import matplotlib.pyplot as plt \n",
    "import scikitplot as skplt# $ pip install scikit-plot into base https://scikit-plot.readthedocs.io/en/stable/metrics.html\n",
    "import plotly.express as px\n",
    "import matplotlib.pyplot as plt\n",
    "import numpy as np\n",
    "import seaborn as sns"
   ]
  },
  {
   "cell_type": "markdown",
   "id": "bb56c106-2a06-424a-917c-18b10044130f",
   "metadata": {
    "canvas": {
     "comments": [],
     "componentType": "CodeCell",
     "copiedOriginId": null,
     "diskcache": false,
     "headerColor": "transparent",
     "id": "b0d6b3f3-44d9-4be5-974e-321df26f7922",
     "isComponent": false,
     "name": "",
     "parents": []
    }
   },
   "source": [
    "# simplified ML workflow"
   ]
  },
  {
   "cell_type": "markdown",
   "id": "cf6aec7a-c468-48d2-8ba3-65f6a3e1ebfd",
   "metadata": {
    "canvas": {
     "comments": [],
     "componentType": "CodeCell",
     "copiedOriginId": null,
     "diskcache": false,
     "headerColor": "transparent",
     "id": "34dfc04f-5b7f-4f4a-8406-780a85eb3988",
     "isComponent": false,
     "name": "",
     "parents": []
    }
   },
   "source": [
    "![](ml_workflow.png)"
   ]
  },
  {
   "cell_type": "markdown",
   "id": "e739b26e-e4fb-4c38-8aae-5b5f7a057a5d",
   "metadata": {
    "canvas": {
     "comments": [],
     "componentType": "CodeCell",
     "copiedOriginId": null,
     "diskcache": false,
     "headerColor": "transparent",
     "id": "4e6bd346-f4f1-4d9c-9b1a-f2af9c769e6c",
     "isComponent": false,
     "name": "",
     "parents": []
    }
   },
   "source": [
    "# debugger test"
   ]
  },
  {
   "cell_type": "code",
   "execution_count": null,
   "id": "6d3dddd0-4a9c-47a2-8c74-fd7e4ea0ca8e",
   "metadata": {
    "canvas": {
     "comments": [],
     "componentType": "CodeCell",
     "copiedOriginId": null,
     "diskcache": false,
     "headerColor": "transparent",
     "id": "a7e713ca-981e-4074-b0e4-5e8a09204c04",
     "isComponent": true,
     "name": "debuger test def",
     "parents": []
    },
    "tags": []
   },
   "outputs": [],
   "source": [
    "def test(a, b, n):\n",
    "    x = []\n",
    "    for i in range(0, n):\n",
    "        x.append(a + b)\n",
    "    return x"
   ]
  },
  {
   "cell_type": "code",
   "execution_count": null,
   "id": "551d501a-2815-47a0-8f4d-df1fa6234235",
   "metadata": {
    "canvas": {
     "comments": [],
     "componentType": "CodeCell",
     "copiedOriginId": null,
     "diskcache": false,
     "headerColor": "transparent",
     "id": "5a1c7a0f-ae2e-4677-910b-3b36de833d53",
     "isComponent": true,
     "name": "debugger test",
     "parents": [
      {
       "id": "a7e713ca-981e-4074-b0e4-5e8a09204c04",
       "name": "debuger test def"
      }
     ]
    },
    "tags": []
   },
   "outputs": [
    {
     "data": {
      "text/plain": [
       "[3, 3, 3, 3, 3, 3]"
      ]
     },
     "execution_count": 0,
     "metadata": {
      "component_id": "5a1c7a0f-ae2e-4677-910b-3b36de833d53"
     },
     "output_type": "execute_result"
    },
    {
     "data": {},
     "execution_count": 0,
     "metadata": {
      "component_id": "5a1c7a0f-ae2e-4677-910b-3b36de833d53"
     },
     "output_type": "execute_result"
    }
   ],
   "source": [
    "a = 1\n",
    "b = 2\n",
    "n = 6\n",
    "result = test(a, b, n)\n",
    "result"
   ]
  },
  {
   "cell_type": "markdown",
   "id": "5bcd7a9e-7926-45b2-9fcf-c045fee594c8",
   "metadata": {
    "canvas": {
     "comments": [],
     "componentType": "CodeCell",
     "copiedOriginId": null,
     "diskcache": false,
     "headerColor": "transparent",
     "id": "e00e9ef0-ada2-4d84-b067-be09a1f85f49",
     "isComponent": false,
     "name": "",
     "parents": []
    }
   },
   "source": [
    "# preprocess data"
   ]
  },
  {
   "cell_type": "code",
   "execution_count": null,
   "id": "eaeb3086-e508-48c7-a70c-0e897bd8b839",
   "metadata": {
    "canvas": {
     "comments": [],
     "componentType": "CodeCell",
     "copiedOriginId": null,
     "diskcache": false,
     "headerColor": "transparent",
     "id": "aea0430c-4916-45ed-ad88-9abbbed04a91",
     "isComponent": true,
     "name": "preprocessing data",
     "parents": [
      {
       "id": "01fd54c6-7729-415e-a2c6-5a399f48465c",
       "name": "packages"
      }
     ]
    },
    "tags": []
   },
   "outputs": [
    {
     "data": {
      "text/html": [
       "<div>\n",
       "<style scoped>\n",
       "    .dataframe tbody tr th:only-of-type {\n",
       "        vertical-align: middle;\n",
       "    }\n",
       "\n",
       "    .dataframe tbody tr th {\n",
       "        vertical-align: top;\n",
       "    }\n",
       "\n",
       "    .dataframe thead th {\n",
       "        text-align: right;\n",
       "    }\n",
       "</style>\n",
       "<table border=\"1\" class=\"dataframe\">\n",
       "  <thead>\n",
       "    <tr style=\"text-align: right;\">\n",
       "      <th></th>\n",
       "      <th>word_freq_make</th>\n",
       "      <th>word_freq_address</th>\n",
       "      <th>word_freq_all</th>\n",
       "      <th>word_freq_3d</th>\n",
       "      <th>word_freq_our</th>\n",
       "      <th>word_freq_over</th>\n",
       "      <th>word_freq_remove</th>\n",
       "      <th>word_freq_internet</th>\n",
       "      <th>word_freq_order</th>\n",
       "      <th>word_freq_mail</th>\n",
       "      <th>...</th>\n",
       "      <th>char_freq_;</th>\n",
       "      <th>char_freq_(</th>\n",
       "      <th>char_freq_[</th>\n",
       "      <th>char_freq_!</th>\n",
       "      <th>char_freq_$</th>\n",
       "      <th>char_freq_#</th>\n",
       "      <th>capital_run_length_average</th>\n",
       "      <th>capital_run_length_longest</th>\n",
       "      <th>capital_run_length_total</th>\n",
       "      <th>spam_class</th>\n",
       "    </tr>\n",
       "  </thead>\n",
       "  <tbody>\n",
       "    <tr>\n",
       "      <th>0</th>\n",
       "      <td>0.00</td>\n",
       "      <td>0.64</td>\n",
       "      <td>0.64</td>\n",
       "      <td>0.0</td>\n",
       "      <td>0.32</td>\n",
       "      <td>0.00</td>\n",
       "      <td>0.00</td>\n",
       "      <td>0.00</td>\n",
       "      <td>0.00</td>\n",
       "      <td>0.00</td>\n",
       "      <td>...</td>\n",
       "      <td>0.00</td>\n",
       "      <td>0.000</td>\n",
       "      <td>0.0</td>\n",
       "      <td>0.778</td>\n",
       "      <td>0.000</td>\n",
       "      <td>0.000</td>\n",
       "      <td>3.756</td>\n",
       "      <td>61</td>\n",
       "      <td>278</td>\n",
       "      <td>1</td>\n",
       "    </tr>\n",
       "    <tr>\n",
       "      <th>1</th>\n",
       "      <td>0.21</td>\n",
       "      <td>0.28</td>\n",
       "      <td>0.50</td>\n",
       "      <td>0.0</td>\n",
       "      <td>0.14</td>\n",
       "      <td>0.28</td>\n",
       "      <td>0.21</td>\n",
       "      <td>0.07</td>\n",
       "      <td>0.00</td>\n",
       "      <td>0.94</td>\n",
       "      <td>...</td>\n",
       "      <td>0.00</td>\n",
       "      <td>0.132</td>\n",
       "      <td>0.0</td>\n",
       "      <td>0.372</td>\n",
       "      <td>0.180</td>\n",
       "      <td>0.048</td>\n",
       "      <td>5.114</td>\n",
       "      <td>101</td>\n",
       "      <td>1028</td>\n",
       "      <td>1</td>\n",
       "    </tr>\n",
       "    <tr>\n",
       "      <th>2</th>\n",
       "      <td>0.06</td>\n",
       "      <td>0.00</td>\n",
       "      <td>0.71</td>\n",
       "      <td>0.0</td>\n",
       "      <td>1.23</td>\n",
       "      <td>0.19</td>\n",
       "      <td>0.19</td>\n",
       "      <td>0.12</td>\n",
       "      <td>0.64</td>\n",
       "      <td>0.25</td>\n",
       "      <td>...</td>\n",
       "      <td>0.01</td>\n",
       "      <td>0.143</td>\n",
       "      <td>0.0</td>\n",
       "      <td>0.276</td>\n",
       "      <td>0.184</td>\n",
       "      <td>0.010</td>\n",
       "      <td>9.821</td>\n",
       "      <td>485</td>\n",
       "      <td>2259</td>\n",
       "      <td>1</td>\n",
       "    </tr>\n",
       "    <tr>\n",
       "      <th>3</th>\n",
       "      <td>0.00</td>\n",
       "      <td>0.00</td>\n",
       "      <td>0.00</td>\n",
       "      <td>0.0</td>\n",
       "      <td>0.63</td>\n",
       "      <td>0.00</td>\n",
       "      <td>0.31</td>\n",
       "      <td>0.63</td>\n",
       "      <td>0.31</td>\n",
       "      <td>0.63</td>\n",
       "      <td>...</td>\n",
       "      <td>0.00</td>\n",
       "      <td>0.137</td>\n",
       "      <td>0.0</td>\n",
       "      <td>0.137</td>\n",
       "      <td>0.000</td>\n",
       "      <td>0.000</td>\n",
       "      <td>3.537</td>\n",
       "      <td>40</td>\n",
       "      <td>191</td>\n",
       "      <td>1</td>\n",
       "    </tr>\n",
       "    <tr>\n",
       "      <th>4</th>\n",
       "      <td>0.00</td>\n",
       "      <td>0.00</td>\n",
       "      <td>0.00</td>\n",
       "      <td>0.0</td>\n",
       "      <td>0.63</td>\n",
       "      <td>0.00</td>\n",
       "      <td>0.31</td>\n",
       "      <td>0.63</td>\n",
       "      <td>0.31</td>\n",
       "      <td>0.63</td>\n",
       "      <td>...</td>\n",
       "      <td>0.00</td>\n",
       "      <td>0.135</td>\n",
       "      <td>0.0</td>\n",
       "      <td>0.135</td>\n",
       "      <td>0.000</td>\n",
       "      <td>0.000</td>\n",
       "      <td>3.537</td>\n",
       "      <td>40</td>\n",
       "      <td>191</td>\n",
       "      <td>1</td>\n",
       "    </tr>\n",
       "  </tbody>\n",
       "</table>\n",
       "<p>5 rows × 58 columns</p>\n",
       "</div>"
      ],
      "text/plain": [
       "   word_freq_make  word_freq_address  word_freq_all  word_freq_3d   \n",
       "0            0.00               0.64           0.64           0.0  \\\n",
       "1            0.21               0.28           0.50           0.0   \n",
       "2            0.06               0.00           0.71           0.0   \n",
       "3            0.00               0.00           0.00           0.0   \n",
       "4            0.00               0.00           0.00           0.0   \n",
       "\n",
       "   word_freq_our  word_freq_over  word_freq_remove  word_freq_internet   \n",
       "0           0.32            0.00              0.00                0.00  \\\n",
       "1           0.14            0.28              0.21                0.07   \n",
       "2           1.23            0.19              0.19                0.12   \n",
       "3           0.63            0.00              0.31                0.63   \n",
       "4           0.63            0.00              0.31                0.63   \n",
       "\n",
       "   word_freq_order  word_freq_mail  ...  char_freq_;  char_freq_(   \n",
       "0             0.00            0.00  ...         0.00        0.000  \\\n",
       "1             0.00            0.94  ...         0.00        0.132   \n",
       "2             0.64            0.25  ...         0.01        0.143   \n",
       "3             0.31            0.63  ...         0.00        0.137   \n",
       "4             0.31            0.63  ...         0.00        0.135   \n",
       "\n",
       "   char_freq_[  char_freq_!  char_freq_$  char_freq_#   \n",
       "0          0.0        0.778        0.000        0.000  \\\n",
       "1          0.0        0.372        0.180        0.048   \n",
       "2          0.0        0.276        0.184        0.010   \n",
       "3          0.0        0.137        0.000        0.000   \n",
       "4          0.0        0.135        0.000        0.000   \n",
       "\n",
       "   capital_run_length_average  capital_run_length_longest   \n",
       "0                       3.756                          61  \\\n",
       "1                       5.114                         101   \n",
       "2                       9.821                         485   \n",
       "3                       3.537                          40   \n",
       "4                       3.537                          40   \n",
       "\n",
       "   capital_run_length_total  spam_class  \n",
       "0                       278           1  \n",
       "1                      1028           1  \n",
       "2                      2259           1  \n",
       "3                       191           1  \n",
       "4                       191           1  \n",
       "\n",
       "[5 rows x 58 columns]"
      ]
     },
     "execution_count": 0,
     "metadata": {
      "component_id": "aea0430c-4916-45ed-ad88-9abbbed04a91"
     },
     "output_type": "execute_result"
    },
    {
     "data": {},
     "execution_count": 0,
     "metadata": {
      "component_id": "aea0430c-4916-45ed-ad88-9abbbed04a91"
     },
     "output_type": "execute_result"
    }
   ],
   "source": [
    "lines = open('../module_04-working_with_the_notebook/data/spambase.names').readlines()[33:]\n",
    "colnames = [x.split(':')[0] for x in lines]\n",
    "colnames.append('spam_class')\n",
    "df = pd.read_csv('../module_04-working_with_the_notebook/data/spambase.data', header = None)\n",
    "df.columns = colnames\n",
    "df.head()"
   ]
  },
  {
   "cell_type": "markdown",
   "id": "7c9fe495-5781-4ab6-a20e-c5fb57d20c2e",
   "metadata": {
    "canvas": {
     "comments": [],
     "componentType": "CodeCell",
     "copiedOriginId": null,
     "diskcache": false,
     "headerColor": "transparent",
     "id": "b36f03be-4222-4667-ab6e-f9523a0b819a",
     "isComponent": false,
     "name": "",
     "parents": []
    }
   },
   "source": [
    "# target class distribution"
   ]
  },
  {
   "cell_type": "code",
   "execution_count": null,
   "id": "c602f556-5708-4f7a-871a-98a5ad979663",
   "metadata": {
    "canvas": {
     "comments": [],
     "componentType": "CodeCell",
     "copiedOriginId": null,
     "diskcache": false,
     "headerColor": "transparent",
     "id": "f185029b-68fe-42e5-b5c4-43f3a4d4eeb1",
     "isComponent": true,
     "name": "target class distribution",
     "parents": [
      {
       "id": "aea0430c-4916-45ed-ad88-9abbbed04a91",
       "name": "preprocessing data"
      }
     ]
    },
    "tags": []
   },
   "outputs": [
    {
     "data": {
      "text/plain": [
       "spam_class\n",
       "0    0.605955\n",
       "1    0.394045\n",
       "Name: count, dtype: float64"
      ]
     },
     "execution_count": 0,
     "metadata": {
      "component_id": "f185029b-68fe-42e5-b5c4-43f3a4d4eeb1"
     },
     "output_type": "execute_result"
    },
    {
     "data": {},
     "execution_count": 0,
     "metadata": {
      "component_id": "f185029b-68fe-42e5-b5c4-43f3a4d4eeb1"
     },
     "output_type": "execute_result"
    }
   ],
   "source": [
    "distr = df['spam_class'].value_counts()/len(df)\n",
    "distr"
   ]
  },
  {
   "cell_type": "markdown",
   "id": "dc35eee1-2137-4ce1-a544-4e121f12126f",
   "metadata": {
    "canvas": {
     "comments": [],
     "componentType": "CodeCell",
     "copiedOriginId": null,
     "diskcache": false,
     "headerColor": "transparent",
     "id": "6b77e675-4ed7-41f6-a1f1-da0ac58d9610",
     "isComponent": false,
     "name": "",
     "parents": []
    }
   },
   "source": [
    "# spam_class by 2 vars"
   ]
  },
  {
   "cell_type": "code",
   "execution_count": null,
   "id": "c14f5643-8a88-4a51-993f-2ca9b4cd76d5",
   "metadata": {
    "canvas": {
     "comments": [],
     "componentType": "CodeCell",
     "copiedOriginId": null,
     "diskcache": false,
     "headerColor": "transparent",
     "id": "6b53eb7f-2bfc-4834-8efc-b2db9cf248ee",
     "isComponent": true,
     "name": "spam class by 2 vars",
     "parents": [
      {
       "id": "aea0430c-4916-45ed-ad88-9abbbed04a91",
       "name": "preprocessing data"
      }
     ]
    },
    "tags": []
   },
   "outputs": [
    {
     "data": {
      "image/png": "[encoded data removed]",
      "text/plain": [
       "<Figure size 640x480 with 1 Axes>"
      ]
     },
     "metadata": {
      "component_id": "6b53eb7f-2bfc-4834-8efc-b2db9cf248ee"
     },
     "output_type": "display_data"
    }
   ],
   "source": [
    "#%matplotlib ipympl\n",
    "# %matplotlib ipympl - interactive matplotlib plots - try hover over the plot\n",
    "\n",
    "sns.scatterplot(x = 'capital_run_length_average', \n",
    "                y = 'capital_run_length_longest', \n",
    "                data = df, \n",
    "                hue = 'spam_class', \n",
    "                alpha = 0.1)\n",
    "plt.show()"
   ]
  },
  {
   "cell_type": "markdown",
   "id": "10bb16e6-0274-4aa9-9f07-fe148110c9f1",
   "metadata": {
    "canvas": {
     "comments": [],
     "componentType": "CodeCell",
     "copiedOriginId": null,
     "diskcache": false,
     "headerColor": "transparent",
     "id": "6f91ac31-8739-4c65-91b0-72f4ac823b9b",
     "isComponent": false,
     "name": "",
     "parents": []
    }
   },
   "source": [
    "# spam_class distribution barchart"
   ]
  },
  {
   "cell_type": "code",
   "execution_count": 5,
   "id": "09d0e2a7-d5dc-4a6b-a103-bcaad13273a2",
   "metadata": {
    "canvas": {
     "comments": [],
     "componentType": "CodeCell",
     "copiedOriginId": null,
     "diskcache": false,
     "headerColor": "transparent",
     "id": "73a9541d-0d6e-4e5e-9217-f1bdf2fe9cc6",
     "isComponent": true,
     "name": "plotly barchart",
     "parents": [
      {
       "id": "f185029b-68fe-42e5-b5c4-43f3a4d4eeb1",
       "name": "target class distribution"
      }
     ]
    },
    "tags": []
   },
   "outputs": [],
   "source": [
    "fig = px.bar(distr)\n",
    "fig.show()"
   ]
  },
  {
   "cell_type": "markdown",
   "id": "f3f61832-8c30-4106-ae01-f0738b2138e5",
   "metadata": {
    "canvas": {
     "comments": [],
     "componentType": "CodeCell",
     "copiedOriginId": null,
     "diskcache": false,
     "headerColor": "transparent",
     "id": "ae9f7141-8635-42d4-8823-b35a28f020a0",
     "isComponent": false,
     "name": "",
     "parents": []
    }
   },
   "source": [
    "# train test split"
   ]
  },
  {
   "cell_type": "code",
   "execution_count": null,
   "id": "53324579-b932-4c8e-911b-a8dd12021e57",
   "metadata": {
    "canvas": {
     "comments": [],
     "componentType": "CodeCell",
     "copiedOriginId": null,
     "diskcache": false,
     "headerColor": "transparent",
     "id": "7ccb569f-cb41-4047-8ce1-755a19daad02",
     "isComponent": true,
     "name": "train test split",
     "parents": [
      {
       "id": "aea0430c-4916-45ed-ad88-9abbbed04a91",
       "name": "preprocessing data"
      }
     ]
    },
    "tags": []
   },
   "outputs": [
    {
     "data": {
      "text/plain": [
       "((3082, 57), (1519, 57), (3082,), (1519,))"
      ]
     },
     "execution_count": 0,
     "metadata": {
      "component_id": "7ccb569f-cb41-4047-8ce1-755a19daad02"
     },
     "output_type": "execute_result"
    },
    {
     "data": {},
     "execution_count": 0,
     "metadata": {
      "component_id": "7ccb569f-cb41-4047-8ce1-755a19daad02"
     },
     "output_type": "execute_result"
    }
   ],
   "source": [
    "x = df[[col for col in df.columns if col != 'spam_class']]\n",
    "y = df['spam_class']\n",
    "x_train, x_test, y_train, y_test = train_test_split(x, y, test_size=0.33, random_state=42)\n",
    "x_train.shape, x_test.shape, y_train.shape, y_test.shape"
   ]
  },
  {
   "cell_type": "markdown",
   "id": "22cab04a-28d4-4e9b-8f8f-755c33022835",
   "metadata": {
    "canvas": {
     "comments": [],
     "componentType": "CodeCell",
     "copiedOriginId": null,
     "diskcache": false,
     "headerColor": "transparent",
     "id": "684877a8-8f9d-4a5e-8623-f609f8437771",
     "isComponent": false,
     "name": "",
     "parents": []
    }
   },
   "source": [
    "# logistic regression"
   ]
  },
  {
   "cell_type": "code",
   "execution_count": null,
   "id": "0d018f6a-b53b-4519-9908-d305ecf740fb",
   "metadata": {
    "canvas": {
     "comments": [],
     "componentType": "CodeCell",
     "copiedOriginId": null,
     "diskcache": false,
     "headerColor": "transparent",
     "id": "dddec57d-6b9d-4bd4-8bc9-bf6634e5cfe4",
     "isComponent": true,
     "name": "LR",
     "parents": [
      {
       "id": "7ccb569f-cb41-4047-8ce1-755a19daad02",
       "name": "train test split"
      }
     ]
    },
    "tags": []
   },
   "outputs": [
    {
     "name": "stderr",
     "output_type": "stream",
     "text": [
      "/opt/conda/lib/python3.10/site-packages/sklearn/linear_model/_logistic.py:458: ConvergenceWarning:\n",
      "\n",
      "lbfgs failed to converge (status=1):\n",
      "STOP: TOTAL NO. of ITERATIONS REACHED LIMIT.\n",
      "\n",
      "Increase the number of iterations (max_iter) or scale the data as shown in:\n",
      "    https://scikit-learn.org/stable/modules/preprocessing.html\n",
      "Please also refer to the documentation for alternative solver options:\n",
      "    https://scikit-learn.org/stable/modules/linear_model.html#logistic-regression\n",
      "\n"
     ]
    },
    {
     "data": {
      "text/plain": [
       "(0.9192083062946139, 0.9229756418696511)"
      ]
     },
     "execution_count": 0,
     "metadata": {
      "component_id": "dddec57d-6b9d-4bd4-8bc9-bf6634e5cfe4"
     },
     "output_type": "execute_result"
    },
    {
     "data": {},
     "execution_count": 0,
     "metadata": {
      "component_id": "dddec57d-6b9d-4bd4-8bc9-bf6634e5cfe4"
     },
     "output_type": "execute_result"
    }
   ],
   "source": [
    "lr = LogisticRegression(random_state=0)\n",
    "lr.fit(x_train, y_train)\n",
    "lr.score(x_train, y_train), lr.score(x_test, y_test) # accuracy"
   ]
  },
  {
   "cell_type": "code",
   "execution_count": null,
   "id": "b6489c64-cf1e-47f4-bafd-4c1fc657bad1",
   "metadata": {
    "canvas": {
     "comments": [],
     "componentType": "CodeCell",
     "copiedOriginId": null,
     "diskcache": false,
     "headerColor": "transparent",
     "id": "6aec1d27-b92e-41c3-ac9a-715168f26cbc",
     "isComponent": true,
     "name": "confusion matrix LR",
     "parents": [
      {
       "id": "dddec57d-6b9d-4bd4-8bc9-bf6634e5cfe4",
       "name": "LR"
      }
     ]
    },
    "tags": []
   },
   "outputs": [
    {
     "data": {
      "image/png": "[encoded data removed]",
      "text/plain": [
       "<Figure size 640x480 with 2 Axes>"
      ]
     },
     "metadata": {
      "component_id": "6aec1d27-b92e-41c3-ac9a-715168f26cbc"
     },
     "output_type": "display_data"
    },
    {
     "data": {
      "text/plain": [
       "<sklearn.metrics._plot.confusion_matrix.ConfusionMatrixDisplay at 0x7f5df09b83d0>"
      ]
     },
     "execution_count": 0,
     "metadata": {
      "component_id": "6aec1d27-b92e-41c3-ac9a-715168f26cbc"
     },
     "output_type": "execute_result"
    },
    {
     "data": {},
     "execution_count": 0,
     "metadata": {
      "component_id": "6aec1d27-b92e-41c3-ac9a-715168f26cbc"
     },
     "output_type": "execute_result"
    }
   ],
   "source": [
    "predictions_lr = lr.predict(x_test)\n",
    "cm_lr = confusion_matrix(y_test, predictions_lr, labels=lr.classes_)\n",
    "disp_lr = ConfusionMatrixDisplay(confusion_matrix=cm_lr, display_labels=lr.classes_)\n",
    "disp_lr.plot()"
   ]
  },
  {
   "cell_type": "code",
   "execution_count": null,
   "id": "7531330d-43e1-4ac5-83cf-74191925315d",
   "metadata": {
    "canvas": {
     "comments": [],
     "componentType": "CodeCell",
     "copiedOriginId": null,
     "diskcache": false,
     "headerColor": "transparent",
     "id": "678f6510-1fae-44e4-a55f-67150f21396c",
     "isComponent": true,
     "name": "gain plot",
     "parents": [
      {
       "id": "dddec57d-6b9d-4bd4-8bc9-bf6634e5cfe4",
       "name": "LR"
      }
     ]
    },
    "tags": []
   },
   "outputs": [
    {
     "data": {
      "image/png": "[encoded data removed]",
      "text/plain": [
       "<Figure size 640x480 with 1 Axes>"
      ]
     },
     "metadata": {
      "component_id": "678f6510-1fae-44e4-a55f-67150f21396c"
     },
     "output_type": "display_data"
    }
   ],
   "source": [
    "predicted_probas_lr = lr.predict_proba(x_test)\n",
    "skplt.metrics.plot_cumulative_gain(y_test, predicted_probas_lr)\n",
    "plt.show()"
   ]
  },
  {
   "cell_type": "markdown",
   "id": "51c2a790-217a-4121-86a3-1037b0cef8cc",
   "metadata": {
    "canvas": {
     "comments": [],
     "componentType": "CodeCell",
     "copiedOriginId": null,
     "diskcache": false,
     "headerColor": "transparent",
     "id": "7bb07b2f-ec4c-452e-b55b-65ed0751afe8",
     "isComponent": false,
     "name": "",
     "parents": []
    }
   },
   "source": [
    "# random forest classifier"
   ]
  },
  {
   "cell_type": "code",
   "execution_count": null,
   "id": "22f6edba-7515-41f1-9c87-a2c9e186ab04",
   "metadata": {
    "canvas": {
     "comments": [],
     "componentType": "CodeCell",
     "copiedOriginId": null,
     "diskcache": false,
     "headerColor": "transparent",
     "id": "fc392792-fc48-4b95-8bc5-9ecc79f95e8c",
     "isComponent": true,
     "name": "RFC",
     "parents": [
      {
       "id": "7ccb569f-cb41-4047-8ce1-755a19daad02",
       "name": "train test split"
      }
     ]
    },
    "tags": []
   },
   "outputs": [
    {
     "data": {
      "text/plain": [
       "(0.7384815055158988, 0.7044107965766951)"
      ]
     },
     "execution_count": 0,
     "metadata": {
      "component_id": "fc392792-fc48-4b95-8bc5-9ecc79f95e8c"
     },
     "output_type": "execute_result"
    },
    {
     "data": {},
     "execution_count": 0,
     "metadata": {
      "component_id": "fc392792-fc48-4b95-8bc5-9ecc79f95e8c"
     },
     "output_type": "execute_result"
    }
   ],
   "source": [
    "rfc = RandomForestClassifier(max_depth=1, random_state=0, max_samples = 5)\n",
    "rfc.fit(x_train, y_train)\n",
    "rfc.score(x_train, y_train), rfc.score(x_test, y_test) # accuracy"
   ]
  },
  {
   "cell_type": "code",
   "execution_count": null,
   "id": "b5ea1e76-bf45-4da4-a2b4-f8634d65dc1c",
   "metadata": {
    "canvas": {
     "comments": [],
     "componentType": "CodeCell",
     "copiedOriginId": null,
     "diskcache": false,
     "headerColor": "transparent",
     "id": "ae5ea173-5528-4c6d-9def-e2da1c192128",
     "isComponent": true,
     "name": "confusion matrix RFC",
     "parents": [
      {
       "id": "fc392792-fc48-4b95-8bc5-9ecc79f95e8c",
       "name": "RFC"
      }
     ]
    },
    "tags": []
   },
   "outputs": [
    {
     "data": {
      "image/png": "[encoded data removed]",
      "text/plain": [
       "<Figure size 640x480 with 2 Axes>"
      ]
     },
     "metadata": {
      "component_id": "ae5ea173-5528-4c6d-9def-e2da1c192128"
     },
     "output_type": "display_data"
    },
    {
     "data": {
      "text/plain": [
       "<sklearn.metrics._plot.confusion_matrix.ConfusionMatrixDisplay at 0x7f5deeb91090>"
      ]
     },
     "execution_count": 0,
     "metadata": {
      "component_id": "ae5ea173-5528-4c6d-9def-e2da1c192128"
     },
     "output_type": "execute_result"
    },
    {
     "data": {},
     "execution_count": 0,
     "metadata": {
      "component_id": "ae5ea173-5528-4c6d-9def-e2da1c192128"
     },
     "output_type": "execute_result"
    }
   ],
   "source": [
    "predictions_rfc = rfc.predict(x_test)\n",
    "cm_rfc = confusion_matrix(y_test, predictions_rfc, labels=rfc.classes_)\n",
    "disp_rfc = ConfusionMatrixDisplay(confusion_matrix=cm_rfc, display_labels=rfc.classes_)\n",
    "disp_rfc.plot()"
   ]
  },
  {
   "cell_type": "code",
   "execution_count": null,
   "id": "a7984494-32bb-4775-890c-bca1072882c4",
   "metadata": {
    "canvas": {
     "comments": [],
     "componentType": "CodeCell",
     "copiedOriginId": null,
     "diskcache": false,
     "headerColor": "transparent",
     "id": "082d62b3-50e1-4d9d-920c-983485feb4a2",
     "isComponent": true,
     "name": "gain plot RFC",
     "parents": [
      {
       "id": "fc392792-fc48-4b95-8bc5-9ecc79f95e8c",
       "name": "RFC"
      }
     ]
    },
    "tags": []
   },
   "outputs": [
    {
     "data": {
      "image/png": "[encoded data removed]",
      "text/plain": [
       "<Figure size 640x480 with 1 Axes>"
      ]
     },
     "metadata": {
      "component_id": "082d62b3-50e1-4d9d-920c-983485feb4a2"
     },
     "output_type": "display_data"
    }
   ],
   "source": [
    "predicted_probas_rfc = rfc.predict_proba(x_test)\n",
    "skplt.metrics.plot_cumulative_gain(y_test, predicted_probas_rfc)\n",
    "plt.show()"
   ]
  },
  {
   "cell_type": "markdown",
   "id": "1c6dd76a-aa57-43b5-b238-4d06b2dbbbc0",
   "metadata": {
    "canvas": {
     "comments": [],
     "componentType": "CodeCell",
     "copiedOriginId": null,
     "diskcache": false,
     "headerColor": "transparent",
     "id": "8ac2f22c-e828-4132-ae66-83a69792f8a7",
     "isComponent": false,
     "name": "",
     "parents": []
    }
   },
   "source": [
    "# saving  scores to disk"
   ]
  },
  {
   "cell_type": "code",
   "execution_count": 6,
   "id": "c01dc84b-a385-4a94-a3ad-137e12fc6a5b",
   "metadata": {
    "canvas": {
     "comments": [],
     "componentType": "CodeCell",
     "copiedOriginId": null,
     "diskcache": false,
     "headerColor": "transparent",
     "id": "301079de-c09c-4533-a1ba-bee02e6aa8cd",
     "isComponent": true,
     "name": "saving to disk",
     "parents": [
      {
       "id": "6aec1d27-b92e-41c3-ac9a-715168f26cbc",
       "name": "confusion matrix LR"
      },
      {
       "id": "678f6510-1fae-44e4-a55f-67150f21396c",
       "name": "gain plot"
      },
      {
       "id": "ae5ea173-5528-4c6d-9def-e2da1c192128",
       "name": "confusion matrix RFC"
      },
      {
       "id": "082d62b3-50e1-4d9d-920c-983485feb4a2",
       "name": "gain plot RFC"
      }
     ]
    },
    "tags": []
   },
   "outputs": [],
   "source": [
    "df_scores = pd.DataFrame({'lr_predicted_values': predictions_lr,\n",
    "                          'lr_predicted_probas': predicted_probas_lr[:,0],\n",
    "                          'rfc_predicted_values': predictions_rfc,\n",
    "                          'rfc_predicted_probas': predicted_probas_rfc[:,0]})\n",
    "df_scores.to_csv('scores.csv', index = False, header = True)"
   ]
  },
  {
   "cell_type": "markdown",
   "id": "4b384c4b-3cf6-4d69-98c1-30eacd8afcd8",
   "metadata": {
    "canvas": {
     "comments": [],
     "componentType": "CodeCell",
     "copiedOriginId": null,
     "diskcache": false,
     "headerColor": "transparent",
     "id": "656e37b9-7321-483b-8aff-116d76790e8b",
     "isComponent": false,
     "name": "",
     "parents": []
    }
   },
   "source": [
    "# references"
   ]
  },
  {
   "cell_type": "markdown",
   "id": "ff56e5be-739f-4225-90a4-14fc03e8c3ef",
   "metadata": {
    "canvas": {
     "comments": [],
     "componentType": "CodeCell",
     "copiedOriginId": null,
     "diskcache": false,
     "headerColor": "transparent",
     "id": "0e9eda39-fcdb-47df-9ad7-a4240533b7a7",
     "isComponent": false,
     "name": "",
     "parents": []
    }
   },
   "source": [
    "1. [Link extension](https://link.makinarocks.ai/)\n",
    "2. [scikit-plot](https://scikit-plot.readthedocs.io/en/stable/metrics.html)\n",
    "3. [Logistic regression](https://scikit-learn.org/stable/modules/generated/sklearn.linear_model.LogisticRegression.html)\n",
    "4. [Random forest classifier](https://scikit-learn.org/stable/modules/generated/sklearn.ensemble.RandomForestClassifier.html)\n"
   ]
  }
 ],
 "metadata": {
  "canvas": {
   "colorPalette": [
    "inherit",
    "inherit",
    "inherit",
    "inherit",
    "inherit",
    "inherit",
    "inherit",
    "inherit",
    "inherit",
    "inherit"
   ],
   "parameters": [],
   "version": "1.0"
  },
  "kernelspec": {
   "display_name": "Python 3 (ipykernel)",
   "language": "python",
   "name": "python3"
  },
  "language_info": {
   "codemirror_mode": {
    "name": "ipython",
    "version": 3
   },
   "file_extension": ".py",
   "mimetype": "text/x-python",
   "name": "python",
   "nbconvert_exporter": "python",
   "pygments_lexer": "ipython3",
   "version": "3.10.11"
  }
 },
 "nbformat": 4,
 "nbformat_minor": 5
}
