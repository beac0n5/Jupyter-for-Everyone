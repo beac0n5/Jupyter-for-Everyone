{
 "cells": [
  {
   "cell_type": "markdown",
   "id": "0a2a4dde-8eca-439a-a2bf-8f27cd71db2c",
   "metadata": {},
   "source": [
    "# packages"
   ]
  },
  {
   "cell_type": "code",
   "execution_count": 23,
   "id": "aab34487-ff75-4298-a104-065dc34e9f56",
   "metadata": {
    "tags": []
   },
   "outputs": [],
   "source": [
    "import pandas as pd\n",
    "from dask.distributed import Client\n",
    "import dask.dataframe as dd\n",
    "import dask.array as da\n",
    "import pandas as pd\n",
    "import glob\n",
    "import os"
   ]
  },
  {
   "cell_type": "markdown",
   "id": "baad0d1a-d0de-4d12-9812-64244ac4a153",
   "metadata": {},
   "source": [
    "# dask config"
   ]
  },
  {
   "cell_type": "code",
   "execution_count": 24,
   "id": "876ec565-227a-4fd6-ac37-d2e1a4dca542",
   "metadata": {
    "tags": []
   },
   "outputs": [],
   "source": [
    "dask_config = {'n_workers':4, 'memory_limit':'5GB', 'threads_per_worker':1,\n",
    "               'processes': True, 'dashboard_address':':8889'}"
   ]
  },
  {
   "cell_type": "code",
   "execution_count": 25,
   "id": "6404650b-4cc5-4857-a268-23e115a1ad56",
   "metadata": {
    "tags": []
   },
   "outputs": [],
   "source": [
    "client = Client(**dask_config)"
   ]
  },
  {
   "cell_type": "markdown",
   "id": "38fd468e-7aa8-4ca4-803e-0aed915b02aa",
   "metadata": {},
   "source": [
    "# df initial analysis"
   ]
  },
  {
   "cell_type": "code",
   "execution_count": 5,
   "id": "ea6c72ac-a4a9-45ce-97f8-7b2a19a17485",
   "metadata": {},
   "outputs": [],
   "source": [
    "df = pd.read_parquet('data/capture01.parquet')"
   ]
  },
  {
   "cell_type": "code",
   "execution_count": 6,
   "id": "c0d7ef1a-8718-4262-a3a3-a807dbad8cd4",
   "metadata": {
    "tags": []
   },
   "outputs": [
    {
     "data": {
      "text/html": [
       "<div>\n",
       "<style scoped>\n",
       "    .dataframe tbody tr th:only-of-type {\n",
       "        vertical-align: middle;\n",
       "    }\n",
       "\n",
       "    .dataframe tbody tr th {\n",
       "        vertical-align: top;\n",
       "    }\n",
       "\n",
       "    .dataframe thead th {\n",
       "        text-align: right;\n",
       "    }\n",
       "</style>\n",
       "<table border=\"1\" class=\"dataframe\">\n",
       "  <thead>\n",
       "    <tr style=\"text-align: right;\">\n",
       "      <th></th>\n",
       "      <th>No.</th>\n",
       "      <th>tcp length</th>\n",
       "      <th>tcp stream</th>\n",
       "      <th>udp stream</th>\n",
       "      <th>src port</th>\n",
       "      <th>dst port</th>\n",
       "      <th>timestamp</th>\n",
       "      <th>delta time</th>\n",
       "      <th>Source</th>\n",
       "      <th>Destination</th>\n",
       "      <th>Protocol</th>\n",
       "      <th>Length</th>\n",
       "      <th>Info</th>\n",
       "      <th>expert info</th>\n",
       "    </tr>\n",
       "  </thead>\n",
       "  <tbody>\n",
       "    <tr>\n",
       "      <th>0</th>\n",
       "      <td>1</td>\n",
       "      <td>0.0</td>\n",
       "      <td>0.0</td>\n",
       "      <td>NaN</td>\n",
       "      <td>51413.0</td>\n",
       "      <td>19063.0</td>\n",
       "      <td>2023-07-28 21:21:38,450421</td>\n",
       "      <td>0.000000</td>\n",
       "      <td>142.165.14.87</td>\n",
       "      <td>192.168.100.4</td>\n",
       "      <td>TCP</td>\n",
       "      <td>54</td>\n",
       "      <td>51413  &gt;  19063 [FIN, ACK] Seq=1 Ack=1 Win=409...</td>\n",
       "      <td>Note</td>\n",
       "    </tr>\n",
       "    <tr>\n",
       "      <th>1</th>\n",
       "      <td>2</td>\n",
       "      <td>0.0</td>\n",
       "      <td>0.0</td>\n",
       "      <td>NaN</td>\n",
       "      <td>19063.0</td>\n",
       "      <td>51413.0</td>\n",
       "      <td>2023-07-28 21:21:38,450718</td>\n",
       "      <td>0.000297</td>\n",
       "      <td>192.168.100.4</td>\n",
       "      <td>142.165.14.87</td>\n",
       "      <td>TCP</td>\n",
       "      <td>54</td>\n",
       "      <td>19063  &gt;  51413 [ACK] Seq=1 Ack=2 Win=512 Len=0</td>\n",
       "      <td>None</td>\n",
       "    </tr>\n",
       "    <tr>\n",
       "      <th>2</th>\n",
       "      <td>3</td>\n",
       "      <td>NaN</td>\n",
       "      <td>NaN</td>\n",
       "      <td>0.0</td>\n",
       "      <td>57621.0</td>\n",
       "      <td>57621.0</td>\n",
       "      <td>2023-07-28 21:21:38,454832</td>\n",
       "      <td>0.004114</td>\n",
       "      <td>192.168.100.4</td>\n",
       "      <td>192.168.100.255</td>\n",
       "      <td>UDP</td>\n",
       "      <td>86</td>\n",
       "      <td>57621  &gt;  57621 Len=44</td>\n",
       "      <td>None</td>\n",
       "    </tr>\n",
       "    <tr>\n",
       "      <th>3</th>\n",
       "      <td>4</td>\n",
       "      <td>0.0</td>\n",
       "      <td>1.0</td>\n",
       "      <td>NaN</td>\n",
       "      <td>34069.0</td>\n",
       "      <td>19081.0</td>\n",
       "      <td>2023-07-28 21:21:38,455025</td>\n",
       "      <td>0.000193</td>\n",
       "      <td>154.16.192.127</td>\n",
       "      <td>192.168.100.4</td>\n",
       "      <td>TCP</td>\n",
       "      <td>54</td>\n",
       "      <td>34069  &gt;  19081 [RST, ACK] Seq=1 Ack=1 Win=0 L...</td>\n",
       "      <td>Warning</td>\n",
       "    </tr>\n",
       "    <tr>\n",
       "      <th>4</th>\n",
       "      <td>5</td>\n",
       "      <td>0.0</td>\n",
       "      <td>2.0</td>\n",
       "      <td>NaN</td>\n",
       "      <td>20482.0</td>\n",
       "      <td>19083.0</td>\n",
       "      <td>2023-07-28 21:21:38,455025</td>\n",
       "      <td>0.000000</td>\n",
       "      <td>174.114.62.147</td>\n",
       "      <td>192.168.100.4</td>\n",
       "      <td>TCP</td>\n",
       "      <td>54</td>\n",
       "      <td>20482  &gt;  19083 [ACK] Seq=1 Ack=1 Win=255 Len=0</td>\n",
       "      <td>None</td>\n",
       "    </tr>\n",
       "  </tbody>\n",
       "</table>\n",
       "</div>"
      ],
      "text/plain": [
       "   No.  tcp length  tcp stream  udp stream  src port  dst port   \n",
       "0    1         0.0         0.0         NaN   51413.0   19063.0  \\\n",
       "1    2         0.0         0.0         NaN   19063.0   51413.0   \n",
       "2    3         NaN         NaN         0.0   57621.0   57621.0   \n",
       "3    4         0.0         1.0         NaN   34069.0   19081.0   \n",
       "4    5         0.0         2.0         NaN   20482.0   19083.0   \n",
       "\n",
       "                    timestamp  delta time          Source      Destination   \n",
       "0  2023-07-28 21:21:38,450421    0.000000   142.165.14.87    192.168.100.4  \\\n",
       "1  2023-07-28 21:21:38,450718    0.000297   192.168.100.4    142.165.14.87   \n",
       "2  2023-07-28 21:21:38,454832    0.004114   192.168.100.4  192.168.100.255   \n",
       "3  2023-07-28 21:21:38,455025    0.000193  154.16.192.127    192.168.100.4   \n",
       "4  2023-07-28 21:21:38,455025    0.000000  174.114.62.147    192.168.100.4   \n",
       "\n",
       "  Protocol  Length                                               Info   \n",
       "0      TCP      54  51413  >  19063 [FIN, ACK] Seq=1 Ack=1 Win=409...  \\\n",
       "1      TCP      54    19063  >  51413 [ACK] Seq=1 Ack=2 Win=512 Len=0   \n",
       "2      UDP      86                             57621  >  57621 Len=44   \n",
       "3      TCP      54  34069  >  19081 [RST, ACK] Seq=1 Ack=1 Win=0 L...   \n",
       "4      TCP      54    20482  >  19083 [ACK] Seq=1 Ack=1 Win=255 Len=0   \n",
       "\n",
       "  expert info  \n",
       "0        Note  \n",
       "1        None  \n",
       "2        None  \n",
       "3     Warning  \n",
       "4        None  "
      ]
     },
     "execution_count": 6,
     "metadata": {},
     "output_type": "execute_result"
    }
   ],
   "source": [
    "df.head()"
   ]
  },
  {
   "cell_type": "code",
   "execution_count": 7,
   "id": "98647e3c-2813-46e7-a7f8-aae97a195380",
   "metadata": {
    "tags": []
   },
   "outputs": [
    {
     "name": "stdout",
     "output_type": "stream",
     "text": [
      "<class 'pandas.core.frame.DataFrame'>\n",
      "RangeIndex: 400000 entries, 0 to 399999\n",
      "Data columns (total 14 columns):\n",
      " #   Column       Non-Null Count   Dtype  \n",
      "---  ------       --------------   -----  \n",
      " 0   No.          400000 non-null  int64  \n",
      " 1   tcp length   55121 non-null   float64\n",
      " 2   tcp stream   55170 non-null   float64\n",
      " 3   udp stream   290422 non-null  float64\n",
      " 4   src port     345615 non-null  float64\n",
      " 5   dst port     345615 non-null  float64\n",
      " 6   timestamp    400000 non-null  object \n",
      " 7   delta time   400000 non-null  float64\n",
      " 8   Source       400000 non-null  object \n",
      " 9   Destination  400000 non-null  object \n",
      " 10  Protocol     400000 non-null  object \n",
      " 11  Length       400000 non-null  int64  \n",
      " 12  Info         399845 non-null  object \n",
      " 13  expert info  11213 non-null   object \n",
      "dtypes: float64(6), int64(2), object(6)\n",
      "memory usage: 42.7+ MB\n"
     ]
    }
   ],
   "source": [
    "df.info()"
   ]
  },
  {
   "cell_type": "code",
   "execution_count": null,
   "id": "78471302-e076-45c1-9355-9517f02f2275",
   "metadata": {
    "tags": []
   },
   "outputs": [],
   "source": [
    "df.Source.value_counts()"
   ]
  },
  {
   "cell_type": "code",
   "execution_count": 9,
   "id": "96e400f4-d335-4109-ad25-fbc2a6df6f5e",
   "metadata": {
    "tags": []
   },
   "outputs": [
    {
     "data": {
      "text/plain": [
       "2625"
      ]
     },
     "execution_count": 9,
     "metadata": {},
     "output_type": "execute_result"
    }
   ],
   "source": [
    "df.Source.nunique()"
   ]
  },
  {
   "cell_type": "code",
   "execution_count": 10,
   "id": "f5fbad81-3352-4ec8-aa5e-4d2028df7d9e",
   "metadata": {
    "tags": []
   },
   "outputs": [
    {
     "data": {
      "text/plain": [
       "5664"
      ]
     },
     "execution_count": 10,
     "metadata": {},
     "output_type": "execute_result"
    }
   ],
   "source": [
    "df.Destination.nunique()"
   ]
  },
  {
   "cell_type": "code",
   "execution_count": null,
   "id": "369aec62-91f2-4d52-a9ef-22c290e7498d",
   "metadata": {
    "tags": []
   },
   "outputs": [],
   "source": [
    "df.Destination.value_counts()"
   ]
  },
  {
   "cell_type": "code",
   "execution_count": 14,
   "id": "da0c6833-82ef-4d1a-8827-17486e2519b2",
   "metadata": {
    "tags": []
   },
   "outputs": [
    {
     "data": {
      "text/plain": [
       "Protocol\n",
       "UDP           263241\n",
       "IPv6           54349\n",
       "TCP            50203\n",
       "BT-DHT         13109\n",
       "DNS             5631\n",
       "TLSv1.2         2664\n",
       "DNPv100         2265\n",
       "QUIC            2256\n",
       "DPPv0           2013\n",
       "BitTorrent      1135\n",
       "TLSv1.3         1078\n",
       "ICMP             861\n",
       "DNPv33           469\n",
       "ICMPv6           372\n",
       "LSD              153\n",
       "SSDP              32\n",
       "MDNS              26\n",
       "ENIP              16\n",
       "DNPv65            16\n",
       "OCSP              13\n",
       "IGMPv3            11\n",
       "DNPv110            9\n",
       "SSL                6\n",
       "DNPv50             5\n",
       "DNPv114            5\n",
       "DNPv94             5\n",
       "HTTP               5\n",
       "DNPv49             5\n",
       "DNPv104            4\n",
       "WireGuard          4\n",
       "LLMNR              4\n",
       "DNPv124            4\n",
       "DNPv17             3\n",
       "RTPproxy           3\n",
       "DNPv52             3\n",
       "DNPv103            3\n",
       "DNPv15             2\n",
       "UAUDP              2\n",
       "DNPv28             1\n",
       "DNPv55             1\n",
       "DNPv63             1\n",
       "DNPv13             1\n",
       "PNIO               1\n",
       "DNPv48             1\n",
       "DNPv25             1\n",
       "SliMP3             1\n",
       "GRE                1\n",
       "RSL                1\n",
       "RTCP               1\n",
       "THRIFT             1\n",
       "H1                 1\n",
       "BROWSER            1\n",
       "DNPv41             1\n",
       "Name: count, dtype: int64"
      ]
     },
     "execution_count": 14,
     "metadata": {},
     "output_type": "execute_result"
    }
   ],
   "source": [
    "df.Protocol.value_counts()"
   ]
  },
  {
   "cell_type": "code",
   "execution_count": 13,
   "id": "dcd0988c-2e73-408b-be37-302b486cd577",
   "metadata": {
    "tags": []
   },
   "outputs": [
    {
     "name": "stdout",
     "output_type": "stream",
     "text": [
      "d917:659a:e32c:22bb:fa12:e398:6ab0:9c68\n"
     ]
    }
   ],
   "source": [
    "import random\n",
    "import socket\n",
    "import struct\n",
    "\n",
    "def generate_random_ipv6_address():\n",
    "    # Generate a random 128-bit number, which is the length of an IPv6 address.\n",
    "    random_128_bit_number = random.getrandbits(128)\n",
    "\n",
    "    # Convert the 128-bit number into a format that can be used as an IPv6 address.\n",
    "    # This format is 16 bytes long, which is the same length as an IPv6 address.\n",
    "    random_128_bit_number_as_bytes = random_128_bit_number.to_bytes(16, byteorder='big')\n",
    "\n",
    "    # Convert the 16-byte value into an IPv6 address.\n",
    "    random_ipv6_address = socket.inet_ntop(socket.AF_INET6, random_128_bit_number_as_bytes)\n",
    "\n",
    "    return random_ipv6_address\n",
    "\n",
    "# Test the function.\n",
    "print(generate_random_ipv6_address())"
   ]
  },
  {
   "cell_type": "code",
   "execution_count": 14,
   "id": "14ed8adb-392d-4ec8-9b2d-f0141565f7d8",
   "metadata": {
    "tags": []
   },
   "outputs": [
    {
     "name": "stdout",
     "output_type": "stream",
     "text": [
      "12.4.58.12\n"
     ]
    }
   ],
   "source": [
    "import random\n",
    "\n",
    "def generate_random_ipv4_address():\n",
    "    # Generate four random numbers between 0 and 255, which is the range for each part of an IPv4 address.\n",
    "    random_parts = [str(random.randint(0, 255)) for _ in range(4)]\n",
    "\n",
    "    # Combine the four parts with dots to create the IPv4 address.\n",
    "    random_ipv4_address = \".\".join(random_parts)\n",
    "\n",
    "    return random_ipv4_address\n",
    "\n",
    "# Test the function.\n",
    "print(generate_random_ipv4_address())"
   ]
  },
  {
   "cell_type": "markdown",
   "id": "4dd91f10-fb74-4d39-849f-f1b196bb87ba",
   "metadata": {},
   "source": [
    "# csvs to parquets"
   ]
  },
  {
   "cell_type": "code",
   "execution_count": 14,
   "id": "54d5c969-2dfe-4a0b-9ddb-d8ef99a97943",
   "metadata": {
    "tags": []
   },
   "outputs": [],
   "source": [
    "# get a list of all csv files in the directory\n",
    "\n",
    "csv_directory = 'data'\n",
    "csv_files = glob.glob(os.path.join(csv_directory, '*.csv'))\n",
    "\n",
    "# iterate through the list of csv files\n",
    "for csv_file in csv_files:\n",
    "    # read the csv file\n",
    "    csv_data = pd.read_csv(csv_file, encoding='Latin-1')\n",
    "\n",
    "    # define the parquet file path\n",
    "    parquet_file = os.path.splitext(csv_file)[0] + '.parquet'\n",
    "\n",
    "    # write the csv data to a parquet file\n",
    "    csv_data.to_parquet(parquet_file, engine='pyarrow')"
   ]
  },
  {
   "cell_type": "markdown",
   "id": "2654d5d6-6737-4669-8d9a-7a726ed63787",
   "metadata": {},
   "source": [
    "# read parquet files to ddf"
   ]
  },
  {
   "cell_type": "code",
   "execution_count": 4,
   "id": "aafa4754-96ea-404f-a265-84292af942f2",
   "metadata": {
    "tags": []
   },
   "outputs": [],
   "source": [
    "ddf = dd.read_parquet('data/capture*.parquet')  "
   ]
  },
  {
   "cell_type": "code",
   "execution_count": 31,
   "id": "fa6e1549-daf1-4c1a-8bf2-95156a88a6fd",
   "metadata": {
    "tags": []
   },
   "outputs": [
    {
     "data": {
      "text/html": [
       "<div><strong>Dask DataFrame Structure:</strong></div>\n",
       "<div>\n",
       "<style scoped>\n",
       "    .dataframe tbody tr th:only-of-type {\n",
       "        vertical-align: middle;\n",
       "    }\n",
       "\n",
       "    .dataframe tbody tr th {\n",
       "        vertical-align: top;\n",
       "    }\n",
       "\n",
       "    .dataframe thead th {\n",
       "        text-align: right;\n",
       "    }\n",
       "</style>\n",
       "<table border=\"1\" class=\"dataframe\">\n",
       "  <thead>\n",
       "    <tr style=\"text-align: right;\">\n",
       "      <th></th>\n",
       "      <th>No.</th>\n",
       "      <th>tcp length</th>\n",
       "      <th>tcp stream</th>\n",
       "      <th>udp stream</th>\n",
       "      <th>src port</th>\n",
       "      <th>dst port</th>\n",
       "      <th>timestamp</th>\n",
       "      <th>delta time</th>\n",
       "      <th>Source</th>\n",
       "      <th>Destination</th>\n",
       "      <th>Protocol</th>\n",
       "      <th>Length</th>\n",
       "      <th>Info</th>\n",
       "      <th>expert info</th>\n",
       "    </tr>\n",
       "    <tr>\n",
       "      <th>npartitions=142</th>\n",
       "      <th></th>\n",
       "      <th></th>\n",
       "      <th></th>\n",
       "      <th></th>\n",
       "      <th></th>\n",
       "      <th></th>\n",
       "      <th></th>\n",
       "      <th></th>\n",
       "      <th></th>\n",
       "      <th></th>\n",
       "      <th></th>\n",
       "      <th></th>\n",
       "      <th></th>\n",
       "      <th></th>\n",
       "    </tr>\n",
       "  </thead>\n",
       "  <tbody>\n",
       "    <tr>\n",
       "      <th></th>\n",
       "      <td>int64</td>\n",
       "      <td>float64</td>\n",
       "      <td>float64</td>\n",
       "      <td>float64</td>\n",
       "      <td>float64</td>\n",
       "      <td>float64</td>\n",
       "      <td>object</td>\n",
       "      <td>float64</td>\n",
       "      <td>object</td>\n",
       "      <td>object</td>\n",
       "      <td>object</td>\n",
       "      <td>int64</td>\n",
       "      <td>object</td>\n",
       "      <td>object</td>\n",
       "    </tr>\n",
       "    <tr>\n",
       "      <th></th>\n",
       "      <td>...</td>\n",
       "      <td>...</td>\n",
       "      <td>...</td>\n",
       "      <td>...</td>\n",
       "      <td>...</td>\n",
       "      <td>...</td>\n",
       "      <td>...</td>\n",
       "      <td>...</td>\n",
       "      <td>...</td>\n",
       "      <td>...</td>\n",
       "      <td>...</td>\n",
       "      <td>...</td>\n",
       "      <td>...</td>\n",
       "      <td>...</td>\n",
       "    </tr>\n",
       "    <tr>\n",
       "      <th>...</th>\n",
       "      <td>...</td>\n",
       "      <td>...</td>\n",
       "      <td>...</td>\n",
       "      <td>...</td>\n",
       "      <td>...</td>\n",
       "      <td>...</td>\n",
       "      <td>...</td>\n",
       "      <td>...</td>\n",
       "      <td>...</td>\n",
       "      <td>...</td>\n",
       "      <td>...</td>\n",
       "      <td>...</td>\n",
       "      <td>...</td>\n",
       "      <td>...</td>\n",
       "    </tr>\n",
       "    <tr>\n",
       "      <th></th>\n",
       "      <td>...</td>\n",
       "      <td>...</td>\n",
       "      <td>...</td>\n",
       "      <td>...</td>\n",
       "      <td>...</td>\n",
       "      <td>...</td>\n",
       "      <td>...</td>\n",
       "      <td>...</td>\n",
       "      <td>...</td>\n",
       "      <td>...</td>\n",
       "      <td>...</td>\n",
       "      <td>...</td>\n",
       "      <td>...</td>\n",
       "      <td>...</td>\n",
       "    </tr>\n",
       "    <tr>\n",
       "      <th></th>\n",
       "      <td>...</td>\n",
       "      <td>...</td>\n",
       "      <td>...</td>\n",
       "      <td>...</td>\n",
       "      <td>...</td>\n",
       "      <td>...</td>\n",
       "      <td>...</td>\n",
       "      <td>...</td>\n",
       "      <td>...</td>\n",
       "      <td>...</td>\n",
       "      <td>...</td>\n",
       "      <td>...</td>\n",
       "      <td>...</td>\n",
       "      <td>...</td>\n",
       "    </tr>\n",
       "  </tbody>\n",
       "</table>\n",
       "</div>\n",
       "<div>Dask Name: read-parquet, 1 graph layer</div>"
      ],
      "text/plain": [
       "Dask DataFrame Structure:\n",
       "                   No. tcp length tcp stream udp stream src port dst port timestamp delta time  Source Destination Protocol Length    Info expert info\n",
       "npartitions=142                                                                                                                                       \n",
       "                 int64    float64    float64    float64  float64  float64    object    float64  object      object   object  int64  object      object\n",
       "                   ...        ...        ...        ...      ...      ...       ...        ...     ...         ...      ...    ...     ...         ...\n",
       "...                ...        ...        ...        ...      ...      ...       ...        ...     ...         ...      ...    ...     ...         ...\n",
       "                   ...        ...        ...        ...      ...      ...       ...        ...     ...         ...      ...    ...     ...         ...\n",
       "                   ...        ...        ...        ...      ...      ...       ...        ...     ...         ...      ...    ...     ...         ...\n",
       "Dask Name: read-parquet, 1 graph layer"
      ]
     },
     "execution_count": 31,
     "metadata": {},
     "output_type": "execute_result"
    }
   ],
   "source": [
    "ddf"
   ]
  },
  {
   "cell_type": "code",
   "execution_count": 135,
   "id": "0fb00063-5325-4fae-bcf0-582b948b1fb0",
   "metadata": {
    "tags": []
   },
   "outputs": [
    {
     "data": {
      "text/html": [
       "<div>\n",
       "<style scoped>\n",
       "    .dataframe tbody tr th:only-of-type {\n",
       "        vertical-align: middle;\n",
       "    }\n",
       "\n",
       "    .dataframe tbody tr th {\n",
       "        vertical-align: top;\n",
       "    }\n",
       "\n",
       "    .dataframe thead th {\n",
       "        text-align: right;\n",
       "    }\n",
       "</style>\n",
       "<table border=\"1\" class=\"dataframe\">\n",
       "  <thead>\n",
       "    <tr style=\"text-align: right;\">\n",
       "      <th></th>\n",
       "      <th>No.</th>\n",
       "      <th>tcp length</th>\n",
       "      <th>tcp stream</th>\n",
       "      <th>udp stream</th>\n",
       "      <th>src port</th>\n",
       "      <th>dst port</th>\n",
       "      <th>timestamp</th>\n",
       "      <th>delta time</th>\n",
       "      <th>Source</th>\n",
       "      <th>Destination</th>\n",
       "      <th>Protocol</th>\n",
       "      <th>Length</th>\n",
       "      <th>Info</th>\n",
       "      <th>expert info</th>\n",
       "    </tr>\n",
       "  </thead>\n",
       "  <tbody>\n",
       "    <tr>\n",
       "      <th>0</th>\n",
       "      <td>1</td>\n",
       "      <td>0.0</td>\n",
       "      <td>0.0</td>\n",
       "      <td>NaN</td>\n",
       "      <td>51413.0</td>\n",
       "      <td>19063.0</td>\n",
       "      <td>2023-07-28 21:21:38,450421</td>\n",
       "      <td>0.000000</td>\n",
       "      <td>142.165.14.87</td>\n",
       "      <td>192.168.100.4</td>\n",
       "      <td>TCP</td>\n",
       "      <td>54</td>\n",
       "      <td>51413  &gt;  19063 [FIN, ACK] Seq=1 Ack=1 Win=409...</td>\n",
       "      <td>Note</td>\n",
       "    </tr>\n",
       "    <tr>\n",
       "      <th>1</th>\n",
       "      <td>2</td>\n",
       "      <td>0.0</td>\n",
       "      <td>0.0</td>\n",
       "      <td>NaN</td>\n",
       "      <td>19063.0</td>\n",
       "      <td>51413.0</td>\n",
       "      <td>2023-07-28 21:21:38,450718</td>\n",
       "      <td>0.000297</td>\n",
       "      <td>192.168.100.4</td>\n",
       "      <td>142.165.14.87</td>\n",
       "      <td>TCP</td>\n",
       "      <td>54</td>\n",
       "      <td>19063  &gt;  51413 [ACK] Seq=1 Ack=2 Win=512 Len=0</td>\n",
       "      <td>None</td>\n",
       "    </tr>\n",
       "    <tr>\n",
       "      <th>2</th>\n",
       "      <td>3</td>\n",
       "      <td>NaN</td>\n",
       "      <td>NaN</td>\n",
       "      <td>0.0</td>\n",
       "      <td>57621.0</td>\n",
       "      <td>57621.0</td>\n",
       "      <td>2023-07-28 21:21:38,454832</td>\n",
       "      <td>0.004114</td>\n",
       "      <td>192.168.100.4</td>\n",
       "      <td>192.168.100.255</td>\n",
       "      <td>UDP</td>\n",
       "      <td>86</td>\n",
       "      <td>57621  &gt;  57621 Len=44</td>\n",
       "      <td>None</td>\n",
       "    </tr>\n",
       "    <tr>\n",
       "      <th>3</th>\n",
       "      <td>4</td>\n",
       "      <td>0.0</td>\n",
       "      <td>1.0</td>\n",
       "      <td>NaN</td>\n",
       "      <td>34069.0</td>\n",
       "      <td>19081.0</td>\n",
       "      <td>2023-07-28 21:21:38,455025</td>\n",
       "      <td>0.000193</td>\n",
       "      <td>154.16.192.127</td>\n",
       "      <td>192.168.100.4</td>\n",
       "      <td>TCP</td>\n",
       "      <td>54</td>\n",
       "      <td>34069  &gt;  19081 [RST, ACK] Seq=1 Ack=1 Win=0 L...</td>\n",
       "      <td>Warning</td>\n",
       "    </tr>\n",
       "    <tr>\n",
       "      <th>4</th>\n",
       "      <td>5</td>\n",
       "      <td>0.0</td>\n",
       "      <td>2.0</td>\n",
       "      <td>NaN</td>\n",
       "      <td>20482.0</td>\n",
       "      <td>19083.0</td>\n",
       "      <td>2023-07-28 21:21:38,455025</td>\n",
       "      <td>0.000000</td>\n",
       "      <td>174.114.62.147</td>\n",
       "      <td>192.168.100.4</td>\n",
       "      <td>TCP</td>\n",
       "      <td>54</td>\n",
       "      <td>20482  &gt;  19083 [ACK] Seq=1 Ack=1 Win=255 Len=0</td>\n",
       "      <td>None</td>\n",
       "    </tr>\n",
       "  </tbody>\n",
       "</table>\n",
       "</div>"
      ],
      "text/plain": [
       "   No.  tcp length  tcp stream  udp stream  src port  dst port   \n",
       "0    1         0.0         0.0         NaN   51413.0   19063.0  \\\n",
       "1    2         0.0         0.0         NaN   19063.0   51413.0   \n",
       "2    3         NaN         NaN         0.0   57621.0   57621.0   \n",
       "3    4         0.0         1.0         NaN   34069.0   19081.0   \n",
       "4    5         0.0         2.0         NaN   20482.0   19083.0   \n",
       "\n",
       "                    timestamp  delta time          Source      Destination   \n",
       "0  2023-07-28 21:21:38,450421    0.000000   142.165.14.87    192.168.100.4  \\\n",
       "1  2023-07-28 21:21:38,450718    0.000297   192.168.100.4    142.165.14.87   \n",
       "2  2023-07-28 21:21:38,454832    0.004114   192.168.100.4  192.168.100.255   \n",
       "3  2023-07-28 21:21:38,455025    0.000193  154.16.192.127    192.168.100.4   \n",
       "4  2023-07-28 21:21:38,455025    0.000000  174.114.62.147    192.168.100.4   \n",
       "\n",
       "  Protocol  Length                                               Info   \n",
       "0      TCP      54  51413  >  19063 [FIN, ACK] Seq=1 Ack=1 Win=409...  \\\n",
       "1      TCP      54    19063  >  51413 [ACK] Seq=1 Ack=2 Win=512 Len=0   \n",
       "2      UDP      86                             57621  >  57621 Len=44   \n",
       "3      TCP      54  34069  >  19081 [RST, ACK] Seq=1 Ack=1 Win=0 L...   \n",
       "4      TCP      54    20482  >  19083 [ACK] Seq=1 Ack=1 Win=255 Len=0   \n",
       "\n",
       "  expert info  \n",
       "0        Note  \n",
       "1        None  \n",
       "2        None  \n",
       "3     Warning  \n",
       "4        None  "
      ]
     },
     "execution_count": 135,
     "metadata": {},
     "output_type": "execute_result"
    }
   ],
   "source": [
    "ddf.head()"
   ]
  },
  {
   "cell_type": "code",
   "execution_count": 10,
   "id": "370c6350-1beb-430f-ba36-bdc136ace1de",
   "metadata": {
    "tags": []
   },
   "outputs": [
    {
     "data": {
      "text/plain": [
       "56477457"
      ]
     },
     "execution_count": 10,
     "metadata": {},
     "output_type": "execute_result"
    }
   ],
   "source": [
    "len(ddf)"
   ]
  },
  {
   "cell_type": "markdown",
   "id": "49b8ebbf-f71e-4492-8daa-fbc7901bc3fe",
   "metadata": {},
   "source": [
    "# dask df initial analysis"
   ]
  },
  {
   "cell_type": "code",
   "execution_count": 5,
   "id": "1d6cac9d-6aaf-483b-ac23-1f9bfb268a9e",
   "metadata": {
    "tags": []
   },
   "outputs": [],
   "source": [
    "unique_src = ddf['Source'].unique().compute()\n",
    "unique_dest = ddf['Destination'].unique().compute()"
   ]
  },
  {
   "cell_type": "code",
   "execution_count": 6,
   "id": "b383a263-a765-4f14-ae62-89154041dcc2",
   "metadata": {
    "tags": []
   },
   "outputs": [],
   "source": [
    "unique_src = unique_src.tolist()\n",
    "unique_dest = unique_dest.tolist()"
   ]
  },
  {
   "cell_type": "code",
   "execution_count": 7,
   "id": "4be83588-d302-4b75-9e03-62ad95f27628",
   "metadata": {
    "tags": []
   },
   "outputs": [],
   "source": [
    "unique_src.extend(unique_dest)"
   ]
  },
  {
   "cell_type": "code",
   "execution_count": 8,
   "id": "39d397a1-2f50-4831-bf13-d4b541069406",
   "metadata": {
    "tags": []
   },
   "outputs": [],
   "source": [
    "s_unique_all = pd.Series(list(set(unique_src)))"
   ]
  },
  {
   "cell_type": "code",
   "execution_count": 9,
   "id": "df6cc22e-b3a9-4a9b-ab07-da186fd78f43",
   "metadata": {
    "tags": []
   },
   "outputs": [
    {
     "data": {
      "text/plain": [
       "77118"
      ]
     },
     "execution_count": 9,
     "metadata": {},
     "output_type": "execute_result"
    }
   ],
   "source": [
    "l_unique_all = list(s_unique_all)\n",
    "len(l_unique_all)"
   ]
  },
  {
   "cell_type": "code",
   "execution_count": null,
   "id": "9794b185-5f3a-41d0-a071-eed15cc63db4",
   "metadata": {
    "tags": []
   },
   "outputs": [],
   "source": [
    "l_unique_all[:20]"
   ]
  },
  {
   "cell_type": "code",
   "execution_count": 11,
   "id": "90568be0-c88d-400b-ac98-991fc2fce03e",
   "metadata": {
    "tags": []
   },
   "outputs": [
    {
     "data": {
      "text/plain": [
       "0       192.168.100.7\n",
       "1     192.168.100.255\n",
       "2       192.168.144.2\n",
       "3       192.168.144.6\n",
       "4       192.168.100.2\n",
       "5      192.168.105.38\n",
       "6       192.168.100.1\n",
       "7      192.168.144.42\n",
       "8      192.168.100.12\n",
       "9      192.168.144.10\n",
       "10      192.168.100.9\n",
       "11      192.168.100.4\n",
       "dtype: object"
      ]
     },
     "execution_count": 11,
     "metadata": {},
     "output_type": "execute_result"
    }
   ],
   "source": [
    "local_ips = s_unique_all[(s_unique_all.str.startswith('192.168'))].reset_index(drop = True)\n",
    "l_local_ips = local_ips.tolist()\n",
    "local_ips"
   ]
  },
  {
   "cell_type": "markdown",
   "id": "74e87161-f3fe-4c39-b594-d2d5806de5bd",
   "metadata": {},
   "source": [
    "# change source & destination ips to generated"
   ]
  },
  {
   "cell_type": "code",
   "execution_count": 15,
   "id": "b9632711-9884-40d2-a3b3-684040b69c5b",
   "metadata": {
    "tags": []
   },
   "outputs": [],
   "source": [
    "mapping_dict = {key:generate_random_ipv4_address() if ('.' in key) and (key not in l_local_ips) \n",
    "                else generate_random_ipv6_address() if key not in l_local_ips \n",
    "                else key for key in l_unique_all}"
   ]
  },
  {
   "cell_type": "code",
   "execution_count": 16,
   "id": "5dab7ab2-223e-48ec-973b-afa12633e6ca",
   "metadata": {
    "tags": []
   },
   "outputs": [
    {
     "data": {
      "text/plain": [
       "'192.168.100.4'"
      ]
     },
     "execution_count": 16,
     "metadata": {},
     "output_type": "execute_result"
    }
   ],
   "source": [
    "mapping_dict['192.168.100.4']"
   ]
  },
  {
   "cell_type": "code",
   "execution_count": 17,
   "id": "0363c650-7ac5-4e77-96fc-8ceb6ca1691a",
   "metadata": {
    "tags": []
   },
   "outputs": [],
   "source": [
    "ddf['Source'] = ddf['Source'].map(mapping_dict)\n",
    "ddf['Destination'] = ddf['Destination'].map(mapping_dict)"
   ]
  },
  {
   "cell_type": "code",
   "execution_count": 22,
   "id": "0a1167bc-95db-4e13-98b5-d36238c62296",
   "metadata": {
    "tags": []
   },
   "outputs": [
    {
     "name": "stderr",
     "output_type": "stream",
     "text": [
      "/opt/conda/lib/python3.10/site-packages/distributed/worker.py:2975: UserWarning: Large object of size 3.23 MiB detected in task graph: \n",
      "  (\"('getitem-18660a1bc37300870a2a0ed1efde5b10', 0)\" ... 45.128'}, None)\n",
      "Consider scattering large objects ahead of time\n",
      "with client.scatter to reduce scheduler burden and \n",
      "keep data on workers\n",
      "\n",
      "    future = client.submit(func, big_data)    # bad\n",
      "\n",
      "    big_future = client.scatter(big_data)     # good\n",
      "    future = client.submit(func, big_future)  # good\n",
      "  warnings.warn(\n"
     ]
    },
    {
     "data": {
      "text/html": [
       "<div>\n",
       "<style scoped>\n",
       "    .dataframe tbody tr th:only-of-type {\n",
       "        vertical-align: middle;\n",
       "    }\n",
       "\n",
       "    .dataframe tbody tr th {\n",
       "        vertical-align: top;\n",
       "    }\n",
       "\n",
       "    .dataframe thead th {\n",
       "        text-align: right;\n",
       "    }\n",
       "</style>\n",
       "<table border=\"1\" class=\"dataframe\">\n",
       "  <thead>\n",
       "    <tr style=\"text-align: right;\">\n",
       "      <th></th>\n",
       "      <th>No.</th>\n",
       "      <th>tcp length</th>\n",
       "      <th>tcp stream</th>\n",
       "      <th>udp stream</th>\n",
       "      <th>src port</th>\n",
       "      <th>dst port</th>\n",
       "      <th>timestamp</th>\n",
       "      <th>delta time</th>\n",
       "      <th>Source</th>\n",
       "      <th>Destination</th>\n",
       "      <th>Protocol</th>\n",
       "      <th>Length</th>\n",
       "      <th>Info</th>\n",
       "      <th>expert info</th>\n",
       "    </tr>\n",
       "  </thead>\n",
       "  <tbody>\n",
       "    <tr>\n",
       "      <th>0</th>\n",
       "      <td>1</td>\n",
       "      <td>0.0</td>\n",
       "      <td>0.0</td>\n",
       "      <td>NaN</td>\n",
       "      <td>51413.0</td>\n",
       "      <td>19063.0</td>\n",
       "      <td>2023-07-28 21:21:38,450421</td>\n",
       "      <td>0.000000</td>\n",
       "      <td>171.22.98.209</td>\n",
       "      <td>192.168.100.4</td>\n",
       "      <td>TCP</td>\n",
       "      <td>54</td>\n",
       "      <td>51413  &gt;  19063 [FIN, ACK] Seq=1 Ack=1 Win=409...</td>\n",
       "      <td>Note</td>\n",
       "    </tr>\n",
       "    <tr>\n",
       "      <th>1</th>\n",
       "      <td>2</td>\n",
       "      <td>0.0</td>\n",
       "      <td>0.0</td>\n",
       "      <td>NaN</td>\n",
       "      <td>19063.0</td>\n",
       "      <td>51413.0</td>\n",
       "      <td>2023-07-28 21:21:38,450718</td>\n",
       "      <td>0.000297</td>\n",
       "      <td>192.168.100.4</td>\n",
       "      <td>171.22.98.209</td>\n",
       "      <td>TCP</td>\n",
       "      <td>54</td>\n",
       "      <td>19063  &gt;  51413 [ACK] Seq=1 Ack=2 Win=512 Len=0</td>\n",
       "      <td>None</td>\n",
       "    </tr>\n",
       "    <tr>\n",
       "      <th>2</th>\n",
       "      <td>3</td>\n",
       "      <td>NaN</td>\n",
       "      <td>NaN</td>\n",
       "      <td>0.0</td>\n",
       "      <td>57621.0</td>\n",
       "      <td>57621.0</td>\n",
       "      <td>2023-07-28 21:21:38,454832</td>\n",
       "      <td>0.004114</td>\n",
       "      <td>192.168.100.4</td>\n",
       "      <td>192.168.100.255</td>\n",
       "      <td>UDP</td>\n",
       "      <td>86</td>\n",
       "      <td>57621  &gt;  57621 Len=44</td>\n",
       "      <td>None</td>\n",
       "    </tr>\n",
       "    <tr>\n",
       "      <th>3</th>\n",
       "      <td>4</td>\n",
       "      <td>0.0</td>\n",
       "      <td>1.0</td>\n",
       "      <td>NaN</td>\n",
       "      <td>34069.0</td>\n",
       "      <td>19081.0</td>\n",
       "      <td>2023-07-28 21:21:38,455025</td>\n",
       "      <td>0.000193</td>\n",
       "      <td>135.62.170.152</td>\n",
       "      <td>192.168.100.4</td>\n",
       "      <td>TCP</td>\n",
       "      <td>54</td>\n",
       "      <td>34069  &gt;  19081 [RST, ACK] Seq=1 Ack=1 Win=0 L...</td>\n",
       "      <td>Warning</td>\n",
       "    </tr>\n",
       "    <tr>\n",
       "      <th>4</th>\n",
       "      <td>5</td>\n",
       "      <td>0.0</td>\n",
       "      <td>2.0</td>\n",
       "      <td>NaN</td>\n",
       "      <td>20482.0</td>\n",
       "      <td>19083.0</td>\n",
       "      <td>2023-07-28 21:21:38,455025</td>\n",
       "      <td>0.000000</td>\n",
       "      <td>52.171.138.181</td>\n",
       "      <td>192.168.100.4</td>\n",
       "      <td>TCP</td>\n",
       "      <td>54</td>\n",
       "      <td>20482  &gt;  19083 [ACK] Seq=1 Ack=1 Win=255 Len=0</td>\n",
       "      <td>None</td>\n",
       "    </tr>\n",
       "  </tbody>\n",
       "</table>\n",
       "</div>"
      ],
      "text/plain": [
       "   No.  tcp length  tcp stream  udp stream  src port  dst port   \n",
       "0    1         0.0         0.0         NaN   51413.0   19063.0  \\\n",
       "1    2         0.0         0.0         NaN   19063.0   51413.0   \n",
       "2    3         NaN         NaN         0.0   57621.0   57621.0   \n",
       "3    4         0.0         1.0         NaN   34069.0   19081.0   \n",
       "4    5         0.0         2.0         NaN   20482.0   19083.0   \n",
       "\n",
       "                    timestamp  delta time          Source      Destination   \n",
       "0  2023-07-28 21:21:38,450421    0.000000   171.22.98.209    192.168.100.4  \\\n",
       "1  2023-07-28 21:21:38,450718    0.000297   192.168.100.4    171.22.98.209   \n",
       "2  2023-07-28 21:21:38,454832    0.004114   192.168.100.4  192.168.100.255   \n",
       "3  2023-07-28 21:21:38,455025    0.000193  135.62.170.152    192.168.100.4   \n",
       "4  2023-07-28 21:21:38,455025    0.000000  52.171.138.181    192.168.100.4   \n",
       "\n",
       "  Protocol  Length                                               Info   \n",
       "0      TCP      54  51413  >  19063 [FIN, ACK] Seq=1 Ack=1 Win=409...  \\\n",
       "1      TCP      54    19063  >  51413 [ACK] Seq=1 Ack=2 Win=512 Len=0   \n",
       "2      UDP      86                             57621  >  57621 Len=44   \n",
       "3      TCP      54  34069  >  19081 [RST, ACK] Seq=1 Ack=1 Win=0 L...   \n",
       "4      TCP      54    20482  >  19083 [ACK] Seq=1 Ack=1 Win=255 Len=0   \n",
       "\n",
       "  expert info  \n",
       "0        Note  \n",
       "1        None  \n",
       "2        None  \n",
       "3     Warning  \n",
       "4        None  "
      ]
     },
     "execution_count": 22,
     "metadata": {},
     "output_type": "execute_result"
    }
   ],
   "source": [
    "ddf.head()"
   ]
  },
  {
   "cell_type": "markdown",
   "id": "fccd389a-a413-4c4e-812d-83bc2bc021bb",
   "metadata": {},
   "source": [
    "# add column with partition id"
   ]
  },
  {
   "cell_type": "code",
   "execution_count": 18,
   "id": "ffc362d6-d216-4a25-8ce1-ad730347a7f6",
   "metadata": {
    "tags": []
   },
   "outputs": [],
   "source": [
    "def partition_id_column(df, partition_info = None):\n",
    "    df['capture_id'] = partition_info['number']\n",
    "    return df"
   ]
  },
  {
   "cell_type": "code",
   "execution_count": 19,
   "id": "777174e7-8868-4c43-b28b-ecbd1a669115",
   "metadata": {
    "tags": []
   },
   "outputs": [
    {
     "data": {
      "text/plain": [
       "[('No.', 'int64'),\n",
       " ('tcp length', 'float64'),\n",
       " ('tcp stream', 'float64'),\n",
       " ('udp stream', 'float64'),\n",
       " ('src port', 'float64'),\n",
       " ('dst port', 'float64'),\n",
       " ('timestamp', 'object'),\n",
       " ('delta time', 'float64'),\n",
       " ('Source', 'object'),\n",
       " ('Destination', 'object'),\n",
       " ('Protocol', 'object'),\n",
       " ('Length', 'int64'),\n",
       " ('Info', 'object'),\n",
       " ('expert info', 'object'),\n",
       " ('capture_id', 'int64')]"
      ]
     },
     "execution_count": 19,
     "metadata": {},
     "output_type": "execute_result"
    }
   ],
   "source": [
    "types = ddf.dtypes.apply(str)\n",
    "types['capture_id'] = 'int64'\n",
    "types = list(zip(types.index,types))\n",
    "types"
   ]
  },
  {
   "cell_type": "code",
   "execution_count": 20,
   "id": "4fbd0373-b9d8-460f-8c5a-f80ae8fd736e",
   "metadata": {
    "tags": []
   },
   "outputs": [],
   "source": [
    "ddf = ddf.map_partitions(partition_id_column, meta = types)"
   ]
  },
  {
   "cell_type": "code",
   "execution_count": 36,
   "id": "bfa913d0-7efb-43c6-b9a3-1857aacc194f",
   "metadata": {
    "tags": []
   },
   "outputs": [
    {
     "data": {
      "text/html": [
       "<div>\n",
       "<style scoped>\n",
       "    .dataframe tbody tr th:only-of-type {\n",
       "        vertical-align: middle;\n",
       "    }\n",
       "\n",
       "    .dataframe tbody tr th {\n",
       "        vertical-align: top;\n",
       "    }\n",
       "\n",
       "    .dataframe thead th {\n",
       "        text-align: right;\n",
       "    }\n",
       "</style>\n",
       "<table border=\"1\" class=\"dataframe\">\n",
       "  <thead>\n",
       "    <tr style=\"text-align: right;\">\n",
       "      <th></th>\n",
       "      <th>No.</th>\n",
       "      <th>tcp length</th>\n",
       "      <th>tcp stream</th>\n",
       "      <th>udp stream</th>\n",
       "      <th>src port</th>\n",
       "      <th>dst port</th>\n",
       "      <th>timestamp</th>\n",
       "      <th>delta time</th>\n",
       "      <th>Source</th>\n",
       "      <th>Destination</th>\n",
       "      <th>Protocol</th>\n",
       "      <th>Length</th>\n",
       "      <th>Info</th>\n",
       "      <th>expert info</th>\n",
       "      <th>capture_id</th>\n",
       "    </tr>\n",
       "  </thead>\n",
       "  <tbody>\n",
       "    <tr>\n",
       "      <th>0</th>\n",
       "      <td>1</td>\n",
       "      <td>0.0</td>\n",
       "      <td>0.0</td>\n",
       "      <td>NaN</td>\n",
       "      <td>51413.0</td>\n",
       "      <td>19063.0</td>\n",
       "      <td>2023-07-28 21:21:38,450421</td>\n",
       "      <td>0.000000</td>\n",
       "      <td>171.22.98.209</td>\n",
       "      <td>192.168.100.4</td>\n",
       "      <td>TCP</td>\n",
       "      <td>54</td>\n",
       "      <td>51413  &gt;  19063 [FIN, ACK] Seq=1 Ack=1 Win=409...</td>\n",
       "      <td>Note</td>\n",
       "      <td>0</td>\n",
       "    </tr>\n",
       "    <tr>\n",
       "      <th>1</th>\n",
       "      <td>2</td>\n",
       "      <td>0.0</td>\n",
       "      <td>0.0</td>\n",
       "      <td>NaN</td>\n",
       "      <td>19063.0</td>\n",
       "      <td>51413.0</td>\n",
       "      <td>2023-07-28 21:21:38,450718</td>\n",
       "      <td>0.000297</td>\n",
       "      <td>192.168.100.4</td>\n",
       "      <td>171.22.98.209</td>\n",
       "      <td>TCP</td>\n",
       "      <td>54</td>\n",
       "      <td>19063  &gt;  51413 [ACK] Seq=1 Ack=2 Win=512 Len=0</td>\n",
       "      <td>None</td>\n",
       "      <td>0</td>\n",
       "    </tr>\n",
       "    <tr>\n",
       "      <th>2</th>\n",
       "      <td>3</td>\n",
       "      <td>NaN</td>\n",
       "      <td>NaN</td>\n",
       "      <td>0.0</td>\n",
       "      <td>57621.0</td>\n",
       "      <td>57621.0</td>\n",
       "      <td>2023-07-28 21:21:38,454832</td>\n",
       "      <td>0.004114</td>\n",
       "      <td>192.168.100.4</td>\n",
       "      <td>192.168.100.255</td>\n",
       "      <td>UDP</td>\n",
       "      <td>86</td>\n",
       "      <td>57621  &gt;  57621 Len=44</td>\n",
       "      <td>None</td>\n",
       "      <td>0</td>\n",
       "    </tr>\n",
       "    <tr>\n",
       "      <th>3</th>\n",
       "      <td>4</td>\n",
       "      <td>0.0</td>\n",
       "      <td>1.0</td>\n",
       "      <td>NaN</td>\n",
       "      <td>34069.0</td>\n",
       "      <td>19081.0</td>\n",
       "      <td>2023-07-28 21:21:38,455025</td>\n",
       "      <td>0.000193</td>\n",
       "      <td>135.62.170.152</td>\n",
       "      <td>192.168.100.4</td>\n",
       "      <td>TCP</td>\n",
       "      <td>54</td>\n",
       "      <td>34069  &gt;  19081 [RST, ACK] Seq=1 Ack=1 Win=0 L...</td>\n",
       "      <td>Warning</td>\n",
       "      <td>0</td>\n",
       "    </tr>\n",
       "    <tr>\n",
       "      <th>4</th>\n",
       "      <td>5</td>\n",
       "      <td>0.0</td>\n",
       "      <td>2.0</td>\n",
       "      <td>NaN</td>\n",
       "      <td>20482.0</td>\n",
       "      <td>19083.0</td>\n",
       "      <td>2023-07-28 21:21:38,455025</td>\n",
       "      <td>0.000000</td>\n",
       "      <td>52.171.138.181</td>\n",
       "      <td>192.168.100.4</td>\n",
       "      <td>TCP</td>\n",
       "      <td>54</td>\n",
       "      <td>20482  &gt;  19083 [ACK] Seq=1 Ack=1 Win=255 Len=0</td>\n",
       "      <td>None</td>\n",
       "      <td>0</td>\n",
       "    </tr>\n",
       "  </tbody>\n",
       "</table>\n",
       "</div>"
      ],
      "text/plain": [
       "   No.  tcp length  tcp stream  udp stream  src port  dst port   \n",
       "0    1         0.0         0.0         NaN   51413.0   19063.0  \\\n",
       "1    2         0.0         0.0         NaN   19063.0   51413.0   \n",
       "2    3         NaN         NaN         0.0   57621.0   57621.0   \n",
       "3    4         0.0         1.0         NaN   34069.0   19081.0   \n",
       "4    5         0.0         2.0         NaN   20482.0   19083.0   \n",
       "\n",
       "                    timestamp  delta time          Source      Destination   \n",
       "0  2023-07-28 21:21:38,450421    0.000000   171.22.98.209    192.168.100.4  \\\n",
       "1  2023-07-28 21:21:38,450718    0.000297   192.168.100.4    171.22.98.209   \n",
       "2  2023-07-28 21:21:38,454832    0.004114   192.168.100.4  192.168.100.255   \n",
       "3  2023-07-28 21:21:38,455025    0.000193  135.62.170.152    192.168.100.4   \n",
       "4  2023-07-28 21:21:38,455025    0.000000  52.171.138.181    192.168.100.4   \n",
       "\n",
       "  Protocol  Length                                               Info   \n",
       "0      TCP      54  51413  >  19063 [FIN, ACK] Seq=1 Ack=1 Win=409...  \\\n",
       "1      TCP      54    19063  >  51413 [ACK] Seq=1 Ack=2 Win=512 Len=0   \n",
       "2      UDP      86                             57621  >  57621 Len=44   \n",
       "3      TCP      54  34069  >  19081 [RST, ACK] Seq=1 Ack=1 Win=0 L...   \n",
       "4      TCP      54    20482  >  19083 [ACK] Seq=1 Ack=1 Win=255 Len=0   \n",
       "\n",
       "  expert info  capture_id  \n",
       "0        Note           0  \n",
       "1        None           0  \n",
       "2        None           0  \n",
       "3     Warning           0  \n",
       "4        None           0  "
      ]
     },
     "execution_count": 36,
     "metadata": {},
     "output_type": "execute_result"
    }
   ],
   "source": [
    "ddf.head()"
   ]
  },
  {
   "cell_type": "code",
   "execution_count": 21,
   "id": "4be39e86-61e2-4779-b4e9-b6ca762b36a9",
   "metadata": {
    "tags": []
   },
   "outputs": [
    {
     "name": "stderr",
     "output_type": "stream",
     "text": [
      "/opt/conda/lib/python3.10/site-packages/distributed/worker.py:2975: UserWarning: Large object of size 3.22 MiB detected in task graph: \n",
      "  (\"('getitem-68f780c973f3f42bf66ff4d25c2ccb41', 0)\" ... 8:69f3'}, None)\n",
      "Consider scattering large objects ahead of time\n",
      "with client.scatter to reduce scheduler burden and \n",
      "keep data on workers\n",
      "\n",
      "    future = client.submit(func, big_data)    # bad\n",
      "\n",
      "    big_future = client.scatter(big_data)     # good\n",
      "    future = client.submit(func, big_future)  # good\n",
      "  warnings.warn(\n"
     ]
    }
   ],
   "source": [
    "ddf.to_parquet('data/')"
   ]
  },
  {
   "cell_type": "markdown",
   "id": "be0ef514-c134-435e-ba14-24e2dbc97889",
   "metadata": {},
   "source": [
    "# repartition to 4x smaller"
   ]
  },
  {
   "cell_type": "code",
   "execution_count": 26,
   "id": "29412c4c-3a47-48db-9cff-6eee500fc1ce",
   "metadata": {
    "tags": []
   },
   "outputs": [],
   "source": [
    "ddf = dd.read_parquet('data/part.*.parquet')"
   ]
  },
  {
   "cell_type": "code",
   "execution_count": 27,
   "id": "d14d07b0-72db-4d44-ae78-00068bb60227",
   "metadata": {
    "tags": []
   },
   "outputs": [],
   "source": [
    "ddf = ddf.repartition(npartitions = 500)"
   ]
  },
  {
   "cell_type": "code",
   "execution_count": 28,
   "id": "d85cb0ca-b097-4a71-81fc-f75d8a965c97",
   "metadata": {
    "tags": []
   },
   "outputs": [],
   "source": [
    "ddf.to_parquet('data/4xsmaller/')"
   ]
  },
  {
   "cell_type": "code",
   "execution_count": 29,
   "id": "5efb04d1-1915-4699-b357-b8ff4a99d560",
   "metadata": {
    "tags": []
   },
   "outputs": [],
   "source": [
    "client.close()"
   ]
  },
  {
   "cell_type": "code",
   "execution_count": null,
   "id": "f14d7861-6bcc-4bfa-93f9-f92413e90d70",
   "metadata": {},
   "outputs": [],
   "source": []
  }
 ],
 "metadata": {
  "kernelspec": {
   "display_name": "Python 3 (ipykernel)",
   "language": "python",
   "name": "python3"
  },
  "language_info": {
   "codemirror_mode": {
    "name": "ipython",
    "version": 3
   },
   "file_extension": ".py",
   "mimetype": "text/x-python",
   "name": "python",
   "nbconvert_exporter": "python",
   "pygments_lexer": "ipython3",
   "version": "3.10.11"
  }
 },
 "nbformat": 4,
 "nbformat_minor": 5
}
