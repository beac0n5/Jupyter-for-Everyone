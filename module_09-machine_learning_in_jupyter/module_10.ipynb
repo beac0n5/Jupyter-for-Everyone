{
 "cells": [
  {
   "cell_type": "code",
   "execution_count": 1,
   "id": "2f31afe0-f3b5-452c-8d6d-30cd9a43d50e",
   "metadata": {},
   "outputs": [],
   "source": [
    "import pandas as pd"
   ]
  },
  {
   "cell_type": "code",
   "execution_count": null,
   "id": "1aca7318-b87c-4264-8ac9-5d4de234bfdc",
   "metadata": {},
   "outputs": [],
   "source": []
  }
 ],
 "metadata": {
  "kernelspec": {
   "display_name": "Python 3 (ipykernel)",
   "language": "python",
   "name": "python3"
  },
  "language_info": {
   "codemirror_mode": {
    "name": "ipython",
    "version": 3
   },
   "file_extension": ".py",
   "mimetype": "text/x-python",
   "name": "python",
   "nbconvert_exporter": "python",
   "pygments_lexer": "ipython3",
   "version": "3.10.8"
  }
 },
 "nbformat": 4,
 "nbformat_minor": 5
}
